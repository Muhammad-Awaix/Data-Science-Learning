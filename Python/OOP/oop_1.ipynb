{
 "cells": [
  {
   "cell_type": "markdown",
   "id": "3b408403",
   "metadata": {},
   "source": [
    "# Object Oriented Programming"
   ]
  },
  {
   "cell_type": "code",
   "execution_count": null,
   "id": "1b6aa613",
   "metadata": {},
   "outputs": [
    {
     "name": "stdout",
     "output_type": "stream",
     "text": [
      "Yamaha\n"
     ]
    }
   ],
   "source": [
    "# simple class \n",
    "class Car:\n",
    "    # constructor of the class\n",
    "    def __init__(self, name, model, type):\n",
    "        self.name=name\n",
    "        self.model=model\n",
    "        self.type=type\n",
    "\n",
    "# car1=Car()\n",
    "car1=Car(\"Yamaha\", \"1989\", \"Petrol\")\n",
    "print(car1.name)\n",
    "# dir(Car)\n"
   ]
  },
  {
   "cell_type": "code",
   "execution_count": 14,
   "id": "9583de4c",
   "metadata": {},
   "outputs": [
    {
     "name": "stdout",
     "output_type": "stream",
     "text": [
      "Lucy says Woof Woof\n"
     ]
    }
   ],
   "source": [
    "# Class with instance method\n",
    "class Animal:\n",
    "    def __init__(self, type, age):\n",
    "        self.type=type\n",
    "        self.age=age\n",
    "    def barking(self):\n",
    "        print(f\"{self.type} says Woof Woof\")\n",
    "\n",
    "dog = Animal(\"Lucy\", 23)\n",
    "dog.barking()"
   ]
  },
  {
   "cell_type": "code",
   "execution_count": 4,
   "id": "fbc1d8e3",
   "metadata": {},
   "outputs": [
    {
     "name": "stdout",
     "output_type": "stream",
     "text": [
      "An amount of 1000 has been added to your Account\n",
      "Your new account balance is 4000\n",
      "An amount of 10000 has been added to your Account\n",
      "Your new account balance is 14000\n"
     ]
    }
   ],
   "source": [
    "# Bank Account\n",
    "class BankAccount:\n",
    "    def __init__(self, owner, balance=0):\n",
    "        self.owner=owner\n",
    "        self.balance=balance\n",
    "    def deposite(self, amount):\n",
    "        if amount<=0:\n",
    "            print(\"Hay Enter valid amount: \")\n",
    "        else:\n",
    "            self.balance+=amount\n",
    "            print(f\"An amount of {amount} has been added to your Account\")\n",
    "            print(f\"Your new account balance is {self.balance}\")\n",
    "    def withdrawl(self, amount):\n",
    "        if amount<=0 and amount<self.balance:\n",
    "            print(\"Hay Enter valid amount: \")\n",
    "        else:\n",
    "            self.balance-=amount\n",
    "            print(f\"An amount of {amount} has been added to your Account\")\n",
    "            print(f\"Your new account balance is {self.balance}\")\n",
    "    def get_balance(self):\n",
    "        return self.balance\n",
    "    \n",
    "user = BankAccount(\"Awais\", 5000)\n",
    "# user.get_balance()\n",
    "user.withdrawl(1000)\n",
    "user.deposite(10000)\n",
    "\n",
    "            "
   ]
  },
  {
   "cell_type": "markdown",
   "id": "d1605d11",
   "metadata": {},
   "source": [
    "# Inheritance"
   ]
  },
  {
   "cell_type": "code",
   "execution_count": 8,
   "id": "2568a00b",
   "metadata": {},
   "outputs": [
    {
     "name": "stdout",
     "output_type": "stream",
     "text": [
      " The person is Driving Electric has 4 Windows and self_Drivuing is True\n"
     ]
    }
   ],
   "source": [
    "# single Inheritance\n",
    "class Car:\n",
    "    def __init__(self, Windows, Year, Engine_Type):\n",
    "        self.Windows = Windows\n",
    "        self.Year = Year\n",
    "        self.Engine_Type = Engine_Type\n",
    "\n",
    "    def drive(self):\n",
    "        print(f\"The Person Drive {self.Engine_Type} Car\")\n",
    "\n",
    "# car1=Car(4, 2000, \"Petrol\")\n",
    "# car1.drive()\n",
    "\n",
    "class Tesla(Car):\n",
    "    def __init__(self, Windows, Year, Engine_Type, is_SelfDriving):\n",
    "        super().__init__(Windows, Year, Engine_Type)\n",
    "        self.is_SelfDrving = is_SelfDriving\n",
    "\n",
    "    def discription(self):\n",
    "        print(f\" The person is Driving {self.Engine_Type} has {self.Windows} Windows and self_Drivuing is {self.is_SelfDrving}\")\n",
    "\n",
    "tesla1 = Tesla(4, 2018, \"Electric\", True)\n",
    "tesla1.discription()"
   ]
  },
  {
   "cell_type": "code",
   "execution_count": 9,
   "id": "2439511d",
   "metadata": {},
   "outputs": [
    {
     "name": "stdout",
     "output_type": "stream",
     "text": [
      "The Dog has owner Awais says whoof\n"
     ]
    }
   ],
   "source": [
    "# Multipul Inheritance\n",
    "\n",
    "#Base Class_1\n",
    "class Animal:\n",
    "    def __inti__(self, name):\n",
    "        self.name=name\n",
    "\n",
    "#Base Class_2\n",
    "class Pet:\n",
    "    def __init__(self, owner):\n",
    "        self.owner = owner\n",
    "\n",
    "#Drive Class\n",
    "class Dog(Animal, Pet):\n",
    "    def __init__(self, name, owner):\n",
    "        Animal.__inti__(self, name)\n",
    "        Pet.__init__(self, owner)\n",
    "\n",
    "    def speak(self):\n",
    "        print(f\"The {self.name} has owner {self.owner} says whoof\")\n",
    "\n",
    "dog1 = Dog(\"Dog\", \"Awais\")\n",
    "dog1.speak()"
   ]
  },
  {
   "cell_type": "markdown",
   "id": "73782e93",
   "metadata": {},
   "source": [
    "# Ploymorphism"
   ]
  },
  {
   "cell_type": "code",
   "execution_count": 16,
   "id": "b63e7abf",
   "metadata": {},
   "outputs": [
    {
     "name": "stdout",
     "output_type": "stream",
     "text": [
      "The Dog has sound like WOOF!\n",
      "The Cat sounds like MEAO!\n",
      "The class has nothing: \n"
     ]
    }
   ],
   "source": [
    "class Animal:\n",
    "    def speak(self):\n",
    "        print(\"The class has nothing: \")\n",
    "class Dog(Animal):\n",
    "    def speak(self):\n",
    "        print(\"The Dog has sound like WOOF!\")\n",
    "class Cat(Animal):\n",
    "    def speak(self):\n",
    "        print(\"The Cat sounds like MEAO!\")\n",
    "\n",
    "dog1 = Dog()\n",
    "dog1.speak()\n",
    "cat1 = Cat()\n",
    "cat1.speak()\n",
    "animal = Animal()\n",
    "animal.speak()"
   ]
  },
  {
   "cell_type": "code",
   "execution_count": 19,
   "id": "cb98f266",
   "metadata": {},
   "outputs": [
    {
     "name": "stdout",
     "output_type": "stream",
     "text": [
      "The Area of a Ractangle is 56.0\n",
      "The Area of a Circle is 12.56\n"
     ]
    }
   ],
   "source": [
    "#Base Class\n",
    "class Shapes():\n",
    "    def area(self):\n",
    "        return \"The shape has some Area\"\n",
    "\n",
    "#Child Class    \n",
    "class Rectangle(Shapes):\n",
    "    def __init__(self, hight, width):\n",
    "        self.hight=hight\n",
    "        self.width=width\n",
    "\n",
    "    def area(self):\n",
    "        return f\"The Area of a Ractangle is {self.hight * self.width}\"\n",
    "#Child Class\n",
    "class Circle(Shapes):\n",
    "    def __init__(self, radius):\n",
    "        self.radius=radius\n",
    "\n",
    "    def area(self):\n",
    "        return f\"The Area of a Circle is {3.14 * (self.radius*self.radius)}\" \n",
    "    \n",
    "# Creating an Object\n",
    "rec = Rectangle(10, 5.6)\n",
    "print(rec.area())\n",
    "cir = Circle(2)\n",
    "print(cir.area())"
   ]
  },
  {
   "cell_type": "markdown",
   "id": "6b18a17b",
   "metadata": {},
   "source": [
    "# Encapsulation"
   ]
  },
  {
   "cell_type": "code",
   "execution_count": 32,
   "id": "da45cdb9",
   "metadata": {},
   "outputs": [
    {
     "name": "stdout",
     "output_type": "stream",
     "text": [
      "Awais\n",
      "Male\n"
     ]
    }
   ],
   "source": [
    "# __name = Private\n",
    "# _name = Proticted\n",
    "\n",
    "class Person:\n",
    "    def __init__(self, name, age, gander):\n",
    "        self.__name = name\n",
    "        self.age = age\n",
    "        self._gander = gander\n",
    "\n",
    "    def get_name(name_p):\n",
    "        return name_p.__name\n",
    "\n",
    "# class Employee(Person):\n",
    "#     def __init__(self, name, age, gander):\n",
    "#         super().__init__(name, age, gander)\n",
    "\n",
    "# def get_name(name_p):\n",
    "#     return name_p.__name\n",
    "\n",
    "emp_1 = Person(\"Awais\", 25, \"Male\")\n",
    "print(emp_1.get_name())\n",
    "print(emp_1._gander)"
   ]
  },
  {
   "cell_type": "code",
   "execution_count": 45,
   "id": "46c283a1",
   "metadata": {},
   "outputs": [
    {
     "name": "stdout",
     "output_type": "stream",
     "text": [
      "Invalid Age\n",
      "27\n"
     ]
    }
   ],
   "source": [
    "# Gatter and satter method for private variable \n",
    "class Person:\n",
    "    def __init__(self, name, age, gander):\n",
    "        self.__name = name\n",
    "        self._gander = gander\n",
    "        self.__age = age\n",
    "\n",
    "    def get_name(self):\n",
    "        return self.__name\n",
    "    \n",
    "    def sat_name(self, name):\n",
    "        self.__name = name\n",
    "\n",
    "    def get_age(self):\n",
    "        return self.__age\n",
    "    \n",
    "    def sat_age(self, age):\n",
    "        if age>0:\n",
    "            self.__age=age\n",
    "        else:\n",
    "            print(\"Invalid Age\")\n",
    "\n",
    "\n",
    "class Person1(Person):\n",
    "    def __init__(self, name, age, gander, is_active):\n",
    "        super().__init__(name, age, gander)\n",
    "        self.is_active = is_active\n",
    "\n",
    "per = Person(\"Awais\", 25, \"Male\")\n",
    "per.sat_age(27)\n",
    "per.sat_age(0)\n",
    "print(per.get_age())"
   ]
  },
  {
   "cell_type": "markdown",
   "id": "bca789c2",
   "metadata": {},
   "source": [
    "# Abstraction"
   ]
  },
  {
   "cell_type": "code",
   "execution_count": 49,
   "id": "3d68a8d6",
   "metadata": {},
   "outputs": [
    {
     "name": "stdout",
     "output_type": "stream",
     "text": [
      "Car Engine is now Started:\n",
      "This is a Vehical\n"
     ]
    }
   ],
   "source": [
    "from abc import ABC, abstractmethod\n",
    "\n",
    "class Vehical(ABC):\n",
    "    def drive(self):\n",
    "        print(\"This is a Vehical\")\n",
    "    \n",
    "    @abstractmethod\n",
    "    def stat_engine(self):\n",
    "        pass\n",
    "\n",
    "class Car(Vehical):\n",
    "    def stat_engine(self):\n",
    "        print(\"Car Engine is now Started:\")\n",
    "\n",
    "car = Car() \n",
    "car.stat_engine()\n",
    "car.drive()"
   ]
  },
  {
   "cell_type": "markdown",
   "id": "b53b8cd6",
   "metadata": {},
   "source": [
    "## Megic Methods"
   ]
  },
  {
   "cell_type": "code",
   "execution_count": 1,
   "id": "1fb92328",
   "metadata": {},
   "outputs": [
    {
     "data": {
      "text/plain": [
       "['__class__',\n",
       " '__delattr__',\n",
       " '__dict__',\n",
       " '__dir__',\n",
       " '__doc__',\n",
       " '__eq__',\n",
       " '__firstlineno__',\n",
       " '__format__',\n",
       " '__ge__',\n",
       " '__getattribute__',\n",
       " '__getstate__',\n",
       " '__gt__',\n",
       " '__hash__',\n",
       " '__init__',\n",
       " '__init_subclass__',\n",
       " '__le__',\n",
       " '__lt__',\n",
       " '__module__',\n",
       " '__ne__',\n",
       " '__new__',\n",
       " '__reduce__',\n",
       " '__reduce_ex__',\n",
       " '__repr__',\n",
       " '__setattr__',\n",
       " '__sizeof__',\n",
       " '__static_attributes__',\n",
       " '__str__',\n",
       " '__subclasshook__',\n",
       " '__weakref__']"
      ]
     },
     "execution_count": 1,
     "metadata": {},
     "output_type": "execute_result"
    }
   ],
   "source": [
    "class Person:\n",
    "    pass\n",
    "\n",
    "person = Person()\n",
    "dir(person)"
   ]
  },
  {
   "cell_type": "code",
   "execution_count": 11,
   "id": "e9a0ccab",
   "metadata": {},
   "outputs": [
    {
     "name": "stdout",
     "output_type": "stream",
     "text": [
      "Hy Awais you are 25 years old\n",
      "My name is Awais i ma 25 years old\n"
     ]
    }
   ],
   "source": [
    "# Changing them using Method\n",
    "\n",
    "class Person:\n",
    "    def __init__(self, name, age):\n",
    "        self.name = name\n",
    "        self.age = age \n",
    "    \n",
    "    # Print the details \n",
    "    def __str__(self):\n",
    "        return f\"Hy {self.name} you are {self.age} years old\"\n",
    "    \n",
    "    def __repr__(self):\n",
    "        return f\"My name is {self.name} i ma {self.age} years old\"\n",
    "    \n",
    "person1 = Person(\"Awais\", 25)\n",
    "print(person1)\n",
    "print(repr(person1))"
   ]
  },
  {
   "cell_type": "markdown",
   "id": "54860529",
   "metadata": {},
   "source": [
    "# Operator oveloading"
   ]
  },
  {
   "cell_type": "code",
   "execution_count": null,
   "id": "1069fd0f",
   "metadata": {},
   "outputs": [],
   "source": [
    "'''\n",
    "__add__ for +\n",
    "__sub__ for -\n",
    "__mul__ for * \n",
    "__truediv__ for /\n",
    "__eq__ for ==\n",
    "etc\n",
    "'''"
   ]
  },
  {
   "cell_type": "code",
   "execution_count": null,
   "id": "5958f521",
   "metadata": {},
   "outputs": [
    {
     "name": "stdout",
     "output_type": "stream",
     "text": [
      "Vector(6, 8)\n",
      "Vector(8, 15)\n"
     ]
    }
   ],
   "source": [
    "class Vector:\n",
    "    def __init__(self, x, y):\n",
    "        self.x=x\n",
    "        self.y=y\n",
    "    \n",
    "    def __add__(self, other):\n",
    "        return Vector(self.x+other.x, self.y+other.y)\n",
    "    \n",
    "    def __sub__(self, other):\n",
    "        return Vector(self.x-other.x, self.y-other.y)\n",
    "    \n",
    "    def __mul__(self, other):\n",
    "        return Vector(self.x*other.x, self.y*other.y)\n",
    "    \n",
    "    def __repr__(self):\n",
    "        return f\"Vector({self.x}, {self.y})\"\n",
    "    \n",
    "v1 = Vector(2,3)\n",
    "v2 = Vector(4,5)\n",
    "\n",
    "print(v1+v2)\n",
    "print(v1*v2)"
   ]
  },
  {
   "cell_type": "markdown",
   "id": "25395051",
   "metadata": {},
   "source": [
    "# Custome Exception Handling"
   ]
  },
  {
   "cell_type": "code",
   "execution_count": 26,
   "id": "34c0954c",
   "metadata": {},
   "outputs": [],
   "source": [
    "class Error(Exception):\n",
    "    pass\n",
    "\n",
    "class dobException(Error):\n",
    "    pass"
   ]
  },
  {
   "cell_type": "code",
   "execution_count": 30,
   "id": "0d89c95e",
   "metadata": {},
   "outputs": [
    {
     "name": "stdout",
     "output_type": "stream",
     "text": [
      "You are not able to apply. Sorry buddy!\n"
     ]
    }
   ],
   "source": [
    "class Error(Exception):\n",
    "    pass\n",
    "\n",
    "class dobException(Error):\n",
    "    pass\n",
    "\n",
    "try:\n",
    "    year = int(input(\"Enter your year of birth: \"))\n",
    "    age = 2025 - year\n",
    "    \n",
    "    if 20 <= age <= 30:\n",
    "        print(\"Congrats! You are applicable\")\n",
    "    else:\n",
    "        raise dobException\n",
    "except dobException:\n",
    "    print(\"You are not able to apply. Sorry buddy!\")\n",
    "except ValueError:\n",
    "    print(\"Invalid input. Please enter a valid year.\")\n"
   ]
  },
  {
   "cell_type": "code",
   "execution_count": null,
   "id": "5a2fd01f",
   "metadata": {},
   "outputs": [],
   "source": []
  }
 ],
 "metadata": {
  "kernelspec": {
   "display_name": "pandas",
   "language": "python",
   "name": "python3"
  },
  "language_info": {
   "codemirror_mode": {
    "name": "ipython",
    "version": 3
   },
   "file_extension": ".py",
   "mimetype": "text/x-python",
   "name": "python",
   "nbconvert_exporter": "python",
   "pygments_lexer": "ipython3",
   "version": "3.13.2"
  }
 },
 "nbformat": 4,
 "nbformat_minor": 5
}
