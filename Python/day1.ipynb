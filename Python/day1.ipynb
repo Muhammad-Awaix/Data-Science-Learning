{
 "cells": [
  {
   "cell_type": "code",
   "execution_count": null,
   "id": "3e902cc4",
   "metadata": {},
   "outputs": [
    {
     "name": "stdout",
     "output_type": "stream",
     "text": [
      "Invalid\n"
     ]
    }
   ],
   "source": [
    "name = input(\"Enter your name: \")\n",
    "age = int(input(\"Enter your Age: \"))\n",
    "is_new = True\n",
    "if is_new == False:\n",
    "    print(f\"{name} is {age} years old, not a new Patient\")\n",
    "elif is_new == True:\n",
    "    print(f\"Welcome:  {name} is {age} years old, a new Patient\")\n",
    "else:\n",
    "    print(\"Invalid\")"
   ]
  },
  {
   "cell_type": "code",
   "execution_count": 4,
   "id": "8df0a351",
   "metadata": {},
   "outputs": [
    {
     "name": "stdout",
     "output_type": "stream",
     "text": [
      "Awais like Pink\n"
     ]
    }
   ],
   "source": [
    "name = \"Awais\"\n",
    "color = input(\"Enter your favourite Color: \")\n",
    "print(f\"{name} like {color}\")"
   ]
  },
  {
   "cell_type": "code",
   "execution_count": 8,
   "id": "82ceecb8",
   "metadata": {},
   "outputs": [
    {
     "name": "stdout",
     "output_type": "stream",
     "text": [
      "<class 'str'>\n",
      "<class 'int'>\n",
      "You are 25 years old \n"
     ]
    }
   ],
   "source": [
    "birth_year = input(\"Enter your birth Year: \")\n",
    "print((type(birth_year)))\n",
    "current_year = 2025\n",
    "age = 2025 - int(birth_year)\n",
    "print(type(age))\n",
    "print(f\"You are {age} years old \")"
   ]
  },
  {
   "cell_type": "code",
   "execution_count": 11,
   "id": "2cb22416",
   "metadata": {},
   "outputs": [
    {
     "name": "stdout",
     "output_type": "stream",
     "text": [
      "Your weight is 62.550000000000004 kg\n"
     ]
    }
   ],
   "source": [
    "weight_in_pounds = int(input(\"Enter your weight is pounds: \"))\n",
    "weight_in_kg = weight_in_pounds * 0.45\n",
    "print(f\"Your weight is {weight_in_kg} kg\")"
   ]
  },
  {
   "cell_type": "code",
   "execution_count": 30,
   "id": "57d3d67d",
   "metadata": {},
   "outputs": [
    {
     "name": "stdout",
     "output_type": "stream",
     "text": [
      "\n",
      "Hello Awais \n",
      "How are your\n",
      "        where you live\n",
      "you are learning python from youtube\n",
      "\n"
     ]
    }
   ],
   "source": [
    "# Strings\n",
    "welcome = \"Python's course for biggners\"\n",
    "welcome_1 = '''\n",
    "Hello Awais \n",
    "How are your\n",
    "        where you live\n",
    "you are learning python from youtube\n",
    "'''\n",
    "print(welcome_1)"
   ]
  },
  {
   "cell_type": "code",
   "execution_count": null,
   "id": "18b49480",
   "metadata": {},
   "outputs": [
    {
     "name": "stdout",
     "output_type": "stream",
     "text": [
      "28\n",
      "P\n",
      "srenggib rof esruoc s'nohtyP\n",
      "Pto' orefrbgnr\n"
     ]
    }
   ],
   "source": [
    "print(len(welcome))\n",
    "print(welcome[0])\n",
    "print(welcome[::-1])\n",
    "print(welcome[::2])"
   ]
  },
  {
   "cell_type": "code",
   "execution_count": null,
   "id": "dd5960cc",
   "metadata": {},
   "outputs": [],
   "source": [
    "another = welcome[:]\n",
    "print(another)\n"
   ]
  },
  {
   "cell_type": "code",
   "execution_count": 45,
   "id": "2e0615a1",
   "metadata": {},
   "outputs": [
    {
     "name": "stdout",
     "output_type": "stream",
     "text": [
      "wais Ashi\n",
      "3113414844656\n"
     ]
    }
   ],
   "source": [
    "name = \"Awais Ashiq\"\n",
    "print(name[1:-1])\n",
    "print(id(name))"
   ]
  },
  {
   "cell_type": "code",
   "execution_count": 39,
   "id": "a3821484",
   "metadata": {},
   "outputs": [
    {
     "name": "stdout",
     "output_type": "stream",
     "text": [
      "AWAIS ASHIQ\n",
      "awais ashiq\n"
     ]
    }
   ],
   "source": [
    "print(name.upper())\n",
    "print(name.lower())"
   ]
  },
  {
   "cell_type": "code",
   "execution_count": 46,
   "id": "c5497657",
   "metadata": {},
   "outputs": [
    {
     "name": "stdout",
     "output_type": "stream",
     "text": [
      "Muhammad Ashiq\n",
      "3113414925104\n"
     ]
    }
   ],
   "source": [
    "name.find(\"Ashiq\")\n",
    "name = name.replace(\"Awais\",\"Muhammad\")\n",
    "print(name)\n",
    "print(id(name))"
   ]
  },
  {
   "cell_type": "code",
   "execution_count": 50,
   "id": "5837c12a",
   "metadata": {},
   "outputs": [
    {
     "name": "stdout",
     "output_type": "stream",
     "text": [
      "True\n",
      "9\n"
     ]
    }
   ],
   "source": [
    "print(\"Ashiq\" in name)\n",
    "print(name.find(\"Ashiq\"))"
   ]
  },
  {
   "cell_type": "code",
   "execution_count": 53,
   "id": "2a7f51aa",
   "metadata": {},
   "outputs": [
    {
     "name": "stdout",
     "output_type": "stream",
     "text": [
      "-3\n",
      "2.9\n"
     ]
    }
   ],
   "source": [
    "x=-2.9\n",
    "print(round(x))\n",
    "print(abs(x))"
   ]
  },
  {
   "cell_type": "code",
   "execution_count": 58,
   "id": "62ec78b5",
   "metadata": {},
   "outputs": [],
   "source": [
    "import math\n"
   ]
  },
  {
   "cell_type": "code",
   "execution_count": 62,
   "id": "5e3493f5",
   "metadata": {},
   "outputs": [
    {
     "name": "stdout",
     "output_type": "stream",
     "text": [
      "You are very old:\n"
     ]
    }
   ],
   "source": [
    "age = int(input(\"Enter your age: \"))\n",
    "if age <=0 or age >120:\n",
    "    print(\"Invalid age Try again:<\")\n",
    "elif age<=10:\n",
    "    print(\"You are a kid: \")\n",
    "elif age<=15:\n",
    "    print(\"you are a child: \")\n",
    "elif age<=25:\n",
    "    print(\"You are Adult: \")\n",
    "elif age>25 or age<=100:\n",
    "    print(\"You are very old:\")\n",
    "else:\n",
    "    print(\"You are not a human:\")"
   ]
  },
  {
   "cell_type": "code",
   "execution_count": 68,
   "id": "3bec2492",
   "metadata": {},
   "outputs": [
    {
     "name": "stdout",
     "output_type": "stream",
     "text": [
      "Weather is cold\n",
      "Wear warm cloths:\n"
     ]
    }
   ],
   "source": [
    "is_hot = False\n",
    "is_cold = True\n",
    "if is_hot:\n",
    "    print(\"Weather is hot\")\n",
    "    print(\"Drink enough water:\")\n",
    "elif is_cold:\n",
    "    print(\"Weather is cold\")\n",
    "    print(\"Wear warm cloths:\")\n",
    "else:\n",
    "    print(\"It's a lovely day\")\n",
    "    print(\"Enjoy your day:\")"
   ]
  },
  {
   "cell_type": "code",
   "execution_count": 75,
   "id": "ca7509dc",
   "metadata": {},
   "outputs": [
    {
     "name": "stdout",
     "output_type": "stream",
     "text": [
      "Congrats you got 10% off\n",
      "Your down payment is $100000.0\n"
     ]
    }
   ],
   "source": [
    "house_price = 1000000\n",
    "cradit_score = True\n",
    "if cradit_score:\n",
    "    print(\"Congrats you got 10% off\")\n",
    "    print(f\"Your down payment is ${int(house_price)*0.10}\")\n",
    "else:\n",
    "    print(\"You are a Poor you got 20% off \")\n",
    "    print(f\"Your down payment is ${int(house_price)*0.20}$\")"
   ]
  },
  {
   "cell_type": "code",
   "execution_count": 99,
   "id": "9af12e0c",
   "metadata": {},
   "outputs": [
    {
     "name": "stdout",
     "output_type": "stream",
     "text": [
      "Current ticket price =$100\n",
      "Hay Man you got 10% off\n",
      "Your Ticket price is $90.0\n"
     ]
    }
   ],
   "source": [
    "Ticket = 100\n",
    "print(f\"Current ticket price =${Ticket}\")\n",
    "age = int(input(\"Enter your age: \"))\n",
    "if age<=0 or age>=100:\n",
    "    print(\"Movie is not for you\")\n",
    "elif age<=10:\n",
    "    print(\"Hay kid you got 50% off\")\n",
    "    print(f\"Your Ticket price is ${(Ticket*(100-50)/100)}\")\n",
    "elif age<=25:\n",
    "    print(\"Hay Bro you got 20% off\")\n",
    "    print(f\"Your Ticket price is ${(Ticket*(100-20)/100)}\")\n",
    "elif age<=90:\n",
    "    print(\"Hay Man you got 10% off\")\n",
    "    print(f\"Your Ticket price is ${(Ticket*(100-10)/100)}\")\n",
    "else:\n",
    "    print(\"Some thing went wrong try again later: \")"
   ]
  },
  {
   "cell_type": "code",
   "execution_count": 101,
   "id": "bbea7101",
   "metadata": {},
   "outputs": [
    {
     "data": {
      "text/plain": [
       "0.9"
      ]
     },
     "execution_count": 101,
     "metadata": {},
     "output_type": "execute_result"
    }
   ],
   "source": [
    "(100-10)/100"
   ]
  },
  {
   "cell_type": "code",
   "execution_count": 108,
   "id": "8b792cb1",
   "metadata": {},
   "outputs": [
    {
     "name": "stdout",
     "output_type": "stream",
     "text": [
      "Not eligible for loan 😔\n",
      "Try again!\n"
     ]
    }
   ],
   "source": [
    "# Eligible for loan\n",
    "income = 800\n",
    "credit_score = 40\n",
    "\n",
    "if income >= 1000 and credit_score >= 75:\n",
    "    print(\"You have a good credit score.\")\n",
    "    print(\"Eligible for loan.\")\n",
    "    loan = int(input(\"Enter amount between 1000 to 5000: \"))\n",
    "    if 1000 <= loan <= 5000:\n",
    "        print(f'{loan} has been added to your account 🙂')\n",
    "    else:\n",
    "        print(\"Invalid amount.\")\n",
    "\n",
    "elif income >= 800 and credit_score >= 65:\n",
    "    print(\"You have a medium credit score.\")\n",
    "    print(\"Eligible for loan.\")\n",
    "    loan = int(input(\"Enter amount between 1000 to 3000: \"))\n",
    "    if 1000 <= loan <= 3000:\n",
    "        print(f'{loan} has been added to your account 🙂')\n",
    "    else:\n",
    "        print(\"Invalid amount.\")\n",
    "\n",
    "else:\n",
    "    print(\"Not eligible for loan 😔\")\n",
    "    print(\"Try again!\")\n"
   ]
  },
  {
   "cell_type": "code",
   "execution_count": 111,
   "id": "d49624c6",
   "metadata": {},
   "outputs": [
    {
     "name": "stdout",
     "output_type": "stream",
     "text": [
      "Sorry:(\n",
      "Try Again:\n"
     ]
    }
   ],
   "source": [
    "high_income = True\n",
    "high_CS = False\n",
    "if high_income and high_CS:\n",
    "    print(\"Congrats:)\")\n",
    "    print(\"Eligible for loan:\")\n",
    "else:\n",
    "    print(\"Sorry:(\")\n",
    "    print(\"Try Again:\")"
   ]
  },
  {
   "cell_type": "code",
   "execution_count": 112,
   "id": "29ed3b71",
   "metadata": {},
   "outputs": [
    {
     "name": "stdout",
     "output_type": "stream",
     "text": [
      "Congrats:)\n",
      "Eligible for loan:\n"
     ]
    }
   ],
   "source": [
    "high_income = True\n",
    "high_CS = False\n",
    "if high_income or high_CS:\n",
    "    print(\"Congrats:)\")\n",
    "    print(\"Eligible for loan:\")\n",
    "else:\n",
    "    print(\"Sorry:(\")\n",
    "    print(\"Try Again:\")"
   ]
  },
  {
   "cell_type": "code",
   "execution_count": 116,
   "id": "d6f95838",
   "metadata": {},
   "outputs": [
    {
     "name": "stdout",
     "output_type": "stream",
     "text": [
      "Name is too large: \n"
     ]
    }
   ],
   "source": [
    "name = input(\"Enter your name: \")\n",
    "if len(name)<=3:\n",
    "    print(\"Name is too small\")\n",
    "elif len(name)>=30:\n",
    "    print(\"Name is too large: \")\n",
    "else:\n",
    "    print(\"Name looks good:\")"
   ]
  },
  {
   "cell_type": "code",
   "execution_count": 120,
   "id": "e6d16a12",
   "metadata": {},
   "outputs": [
    {
     "name": "stdout",
     "output_type": "stream",
     "text": [
      "Invalid Input!\n"
     ]
    }
   ],
   "source": [
    "weight = int(input(\"Enter your weight: \"))\n",
    "option = input(\"select k for KG or l for lbs: \").lower()\n",
    "if option == 'k':\n",
    "    print(f\"Your weight in pounds is {weight/0.45} lbs\")\n",
    "elif option =='l':\n",
    "    print(f\"Your weight in KG is {weight*0.45} KG\")\n",
    "else:\n",
    "    print(\"Invalid Input!\")"
   ]
  },
  {
   "cell_type": "markdown",
   "id": "f5e558da",
   "metadata": {},
   "source": [
    "## loops"
   ]
  },
  {
   "cell_type": "code",
   "execution_count": 124,
   "id": "32e3661e",
   "metadata": {},
   "outputs": [
    {
     "name": "stdout",
     "output_type": "stream",
     "text": [
      "invalid name. Try again\n",
      "awais\n"
     ]
    }
   ],
   "source": [
    "while(True):\n",
    "    name = input(\"Enter your name: \").lower()\n",
    "    if name == \"awais\":\n",
    "        print(name)\n",
    "        break\n",
    "    else:\n",
    "        print(\"invalid name. Try again\")\n"
   ]
  },
  {
   "cell_type": "code",
   "execution_count": 149,
   "id": "988bdd3b",
   "metadata": {},
   "outputs": [
    {
     "name": "stdout",
     "output_type": "stream",
     "text": [
      "❌ Wrong guess! Try again.\n",
      "Lives left: 2\n",
      "🎉 You won! correct number is 1\n",
      "Lives remaining: 2\n"
     ]
    }
   ],
   "source": [
    "import random\n",
    "\n",
    "rn = random.randint(1, 5)\n",
    "life = 3\n",
    "\n",
    "while True:\n",
    "    guess = int(input(\"Enter a number between 1 to 5: \"))\n",
    "    \n",
    "    if guess == rn:\n",
    "        print(f\"🎉 You won! correct number is {guess}\")\n",
    "        print(f\"Lives remaining: {life}\")\n",
    "        break\n",
    "    else:\n",
    "        life -= 1\n",
    "        print(\"❌ Wrong guess! Try again.\")\n",
    "        print(f\"Lives left: {life}\")\n",
    "        \n",
    "        if life == 0:\n",
    "            print(\"💔 You lost!\")\n",
    "            print(f\"The correct number was: {rn}\")\n",
    "            break\n"
   ]
  },
  {
   "cell_type": "code",
   "execution_count": 143,
   "id": "44ac0397",
   "metadata": {},
   "outputs": [
    {
     "name": "stdout",
     "output_type": "stream",
     "text": [
      "*\n",
      "**\n",
      "***\n",
      "****\n",
      "*****\n"
     ]
    }
   ],
   "source": [
    "i=1\n",
    "while(i<=5):\n",
    "    print(i*\"*\")\n",
    "    i+=1"
   ]
  },
  {
   "cell_type": "code",
   "execution_count": null,
   "id": "2836a75e",
   "metadata": {},
   "outputs": [
    {
     "name": "stdout",
     "output_type": "stream",
     "text": [
      "\n",
      "start -- To start the car\n",
      "stop -- To stop the car\n",
      "quit -- To quit the game\n",
      "\n",
      "You need to start the car to stop\n",
      "Car has started:------\n",
      "Car already started\n",
      "Car has stoped\n",
      "Car already started\n",
      "Car already started\n",
      "Game has ended: \n"
     ]
    }
   ],
   "source": [
    "instructions = '''\n",
    "start -- To start the car\n",
    "stop  -- To stop the car\n",
    "quit  -- To quit the game\n",
    "help  -- To show this help message\n",
    "'''\n",
    "\n",
    "start = False\n",
    "\n",
    "while True:\n",
    "    command = input(\"Enter your operation: \").lower()\n",
    "\n",
    "    if command == 'help':\n",
    "        print(instructions)\n",
    "\n",
    "    elif command == 'start':\n",
    "        if start:\n",
    "            print(\"🚗 Car is already started.\")\n",
    "        else:\n",
    "            print(\"🚗 Car has started...\")\n",
    "            start = True\n",
    "\n",
    "    elif command == 'stop':\n",
    "        if start:\n",
    "            print(\"🛑 Car has stopped.\")\n",
    "            start = False\n",
    "        else:\n",
    "            print(\"❗ You need to start the car first.\")\n",
    "\n",
    "    elif command == 'quit':\n",
    "        print(\"👋 Game has ended. Bye!\")\n",
    "        break\n",
    "\n",
    "    else:\n",
    "        print(\"❓ I don't understand that command. Type 'help' to see available options.\")\n"
   ]
  },
  {
   "cell_type": "code",
   "execution_count": null,
   "id": "f841d2df",
   "metadata": {},
   "outputs": [],
   "source": [
    "Balance = 0\n",
    "name = \"awais\"\n",
    "password = 'awais123'\n",
    "\n",
    "while True:\n",
    "    user_name = input(\"Enter your username: \").lower()\n",
    "    user_password = input(\"Enter your password: \").lower()\n",
    "\n",
    "    if user_name == name and user_password == password:\n",
    "        print(\"✅ Login Successful!\")\n",
    "\n",
    "        while True:  # inner loop for banking menu\n",
    "            print('''\n",
    "----- UBL Bank Menu -----\n",
    "1: Add Money\n",
    "2: Withdraw Money\n",
    "3: Show Balance\n",
    "4: Quit\n",
    "--------------------------\n",
    "''')\n",
    "            choice = input(\"Enter your Choice (1-4): \")\n",
    "\n",
    "            if choice == '1':\n",
    "                try:\n",
    "                    amount = int(input(\"Enter the amount to add: \"))\n",
    "                    if amount <= 0:\n",
    "                        print(\"❌ Enter a valid positive amount.\")\n",
    "                    else:\n",
    "                        Balance += amount\n",
    "                        print(f\"💰 {amount} has been added to your account.\")\n",
    "                except:\n",
    "                    print(\"❌ Please enter a valid number.\")\n",
    "\n",
    "            elif choice == '2':\n",
    "                try:\n",
    "                    amount = int(input(\"Enter the amount to withdraw: \"))\n",
    "                    if amount <= 0:\n",
    "                        print(\"❌ Enter a valid positive amount.\")\n",
    "                    elif amount <= Balance:\n",
    "                        Balance -= amount\n",
    "                        print(f\"💸 {amount} has been withdrawn.\")\n",
    "                    else:\n",
    "                        print(\"❌ Insufficient balance.\")\n",
    "                except:\n",
    "                    print(\"❌ Please enter a valid number.\")\n",
    "\n",
    "            elif choice == '3':\n",
    "                print(f\"💼 Your Total Balance is: {Balance}\")\n",
    "\n",
    "            elif choice == '4':\n",
    "                print(\"👋 Thanks for using UBL! Have a great day.\")\n",
    "                break  # Exit inner menu loop\n",
    "\n",
    "            else:\n",
    "                print(\"❌ Invalid choice. Please select from 1 to 4.\")\n",
    "\n",
    "        break  # Exit login loop after quitting the menu\n",
    "\n",
    "    else:\n",
    "        print(\"❌ Invalid username or password.\")\n",
    "        print(\"🔁 Try Again...\\n\")\n"
   ]
  },
  {
   "cell_type": "code",
   "execution_count": 6,
   "id": "9b87b4bb",
   "metadata": {},
   "outputs": [
    {
     "name": "stdout",
     "output_type": "stream",
     "text": [
      "A\n",
      "w\n",
      "a\n",
      "i\n",
      "s\n",
      "0 1 2 3 4 5 6 7 8 9 2\n",
      "4\n",
      "6\n",
      "8\n",
      "10\n",
      "12\n",
      "14\n",
      "16\n",
      "18\n",
      "20\n"
     ]
    }
   ],
   "source": [
    "for i in 'Awais':\n",
    "    print(i)\n",
    "for i in range(10):\n",
    "    print(i, end=' ')\n",
    "for i in range(1,21):\n",
    "    if i %2==0:\n",
    "        print(i)\n",
    "    else:\n",
    "        pass"
   ]
  },
  {
   "cell_type": "code",
   "execution_count": 1,
   "id": "6214c8a9",
   "metadata": {},
   "outputs": [
    {
     "name": "stdout",
     "output_type": "stream",
     "text": [
      "1: malty | 2: syb | 3: kyly | 4: Amm | 5: Show Total | 6: Quit shopping\n",
      "❌ Invalid choice! Please choose from 1 to 6.\n",
      "1: malty | 2: syb | 3: kyly | 4: Amm | 5: Show Total | 6: Quit shopping\n",
      "🧾 Your total amount is Rs. 0\n",
      "1: malty | 2: syb | 3: kyly | 4: Amm | 5: Show Total | 6: Quit shopping\n",
      "✅ malty has been added\n",
      "1: malty | 2: syb | 3: kyly | 4: Amm | 5: Show Total | 6: Quit shopping\n",
      "✅ malty has been added\n",
      "1: malty | 2: syb | 3: kyly | 4: Amm | 5: Show Total | 6: Quit shopping\n",
      "✅ syb has been added\n",
      "1: malty | 2: syb | 3: kyly | 4: Amm | 5: Show Total | 6: Quit shopping\n",
      "🧾 Your total amount is Rs. 450\n",
      "1: malty | 2: syb | 3: kyly | 4: Amm | 5: Show Total | 6: Quit shopping\n",
      "🛒 Thank you for shopping! Bye.\n"
     ]
    }
   ],
   "source": [
    "malty = 100\n",
    "syb = 250\n",
    "kyly = 150\n",
    "Amm = 300\n",
    "\n",
    "total = 0\n",
    "while True:\n",
    "    print(\"1: malty | 2: syb | 3: kyly | 4: Amm | 5: Show Total | 6: Quit shopping\")\n",
    "    choice = input(\"Enter your choice: \")\n",
    "    \n",
    "    if choice == \"1\":\n",
    "        print(\"✅ malty has been added\")\n",
    "        total += malty\n",
    "    elif choice == \"2\":\n",
    "        print(\"✅ syb has been added\")\n",
    "        total += syb\n",
    "    elif choice == \"3\":\n",
    "        print(\"✅ kyly has been added\")\n",
    "        total += kyly\n",
    "    elif choice == \"4\":\n",
    "        print(\"✅ Amm has been added\")\n",
    "        total += Amm\n",
    "    elif choice == \"5\":\n",
    "        print(f\"🧾 Your total amount is Rs. {total}\")\n",
    "    elif choice == \"6\":\n",
    "        print(\"🛒 Thank you for shopping! Bye.\")\n",
    "        break\n",
    "    else:\n",
    "        print(\"❌ Invalid choice! Please choose from 1 to 6.\")\n"
   ]
  },
  {
   "cell_type": "code",
   "execution_count": 3,
   "id": "28ff0712",
   "metadata": {},
   "outputs": [
    {
     "name": "stdout",
     "output_type": "stream",
     "text": [
      "(0,0)\n",
      "(0,1)\n",
      "(0,2)\n",
      "(0,3)\n",
      "(1,0)\n",
      "(1,1)\n",
      "(1,2)\n",
      "(1,3)\n",
      "(2,0)\n",
      "(2,1)\n",
      "(2,2)\n",
      "(2,3)\n",
      "(3,0)\n",
      "(3,1)\n",
      "(3,2)\n",
      "(3,3)\n"
     ]
    }
   ],
   "source": [
    "for i in range(4):\n",
    "    for j in range(4):\n",
    "        print(f'({i},{j})')"
   ]
  },
  {
   "cell_type": "markdown",
   "id": "0b24a344",
   "metadata": {},
   "source": [
    "# List"
   ]
  },
  {
   "cell_type": "code",
   "execution_count": 10,
   "id": "8bb599f0",
   "metadata": {},
   "outputs": [
    {
     "name": "stdout",
     "output_type": "stream",
     "text": [
      "xxxxx\n",
      "xx\n",
      "xxxxx\n",
      "xx\n",
      "xx\n",
      " \n",
      "xx\n",
      "xx\n",
      "xx\n",
      "xx\n",
      "xxxxxx\n"
     ]
    }
   ],
   "source": [
    "l = [5,2,5,2,2]\n",
    "for i in l:\n",
    "    print(i*\"x\")\n",
    "print(\" \")\n",
    "l = [2,2,2,2,6]\n",
    "for i in l:\n",
    "    print(i*\"x\")"
   ]
  },
  {
   "cell_type": "code",
   "execution_count": null,
   "id": "f56b0f16",
   "metadata": {},
   "outputs": [
    {
     "name": "stdout",
     "output_type": "stream",
     "text": [
      "50\n"
     ]
    }
   ],
   "source": [
    "#find the max\n",
    "L = [10,20,30,40,50]\n",
    "max = L[0]\n",
    "for i in L:\n",
    "    if i>max:\n",
    "        max = i\n",
    "print(max)"
   ]
  },
  {
   "cell_type": "code",
   "execution_count": 23,
   "id": "46bb931e",
   "metadata": {},
   "outputs": [
    {
     "name": "stdout",
     "output_type": "stream",
     "text": [
      "10\n",
      "[10, 20, 30, 40]\n",
      "30\n"
     ]
    }
   ],
   "source": [
    "L2d = [1,2,3,4,[10,20,30,40],5,6,7,8,9]\n",
    "print(len(L2d))\n",
    "print(L2d[4])\n",
    "print(L2d[4][2])"
   ]
  },
  {
   "cell_type": "code",
   "execution_count": 28,
   "id": "0b552e63",
   "metadata": {},
   "outputs": [
    {
     "name": "stdout",
     "output_type": "stream",
     "text": [
      "[[1, 2, 3], [4, 5, 6], [7, 8, 9]]\n",
      "9\n",
      "[4, 5, 6]\n",
      "[2, 3]\n",
      "1\n",
      "2\n",
      "3\n",
      "4\n",
      "5\n",
      "6\n",
      "7\n",
      "8\n",
      "9\n"
     ]
    }
   ],
   "source": [
    "metrix = [\n",
    "    [1,2,3],\n",
    "    [4,5,6],\n",
    "    [7,8,9]\n",
    "]\n",
    "print(metrix)\n",
    "print(metrix[2][-1])\n",
    "print(metrix[1])\n",
    "print(metrix[0][1:])\n",
    "\n",
    "for rows in metrix:\n",
    "    for items in rows:\n",
    "        print(items)"
   ]
  },
  {
   "cell_type": "code",
   "execution_count": 39,
   "id": "85c05340",
   "metadata": {},
   "outputs": [
    {
     "name": "stdout",
     "output_type": "stream",
     "text": [
      "4\n",
      "False\n",
      "5\n",
      "[1, 1, 2, 3, 4, 5, 5, 5, 5, 6, 7, 8, 9, 100]\n",
      "[100, 9, 8, 7, 6, 5, 5, 5, 5, 4, 3, 2, 1, 1]\n"
     ]
    }
   ],
   "source": [
    "l2 = [1,1,2,3,4,5,5,5,5,6,7,8,9,90]\n",
    "print(l2.count(5))\n",
    "print(0 in l2)\n",
    "l2.pop()\n",
    "l2\n",
    "print(l2.index(5))\n",
    "l2.insert(0,100)\n",
    "l2\n",
    "l2.sort()\n",
    "print(l2)\n",
    "l2.reverse()\n",
    "print(l2)"
   ]
  },
  {
   "cell_type": "code",
   "execution_count": 36,
   "id": "ae4aa321",
   "metadata": {},
   "outputs": [
    {
     "data": {
      "text/plain": [
       "[]"
      ]
     },
     "execution_count": 36,
     "metadata": {},
     "output_type": "execute_result"
    }
   ],
   "source": [
    "l2.clear()\n",
    "l2"
   ]
  },
  {
   "cell_type": "code",
   "execution_count": null,
   "id": "2e6e9420",
   "metadata": {},
   "outputs": [
    {
     "name": "stdout",
     "output_type": "stream",
     "text": [
      "[100, 9, 8, 7, 6, 5, 4, 3, 2, 1]\n"
     ]
    }
   ],
   "source": [
    "#Remove Duplicates\n",
    "new_list = []\n",
    "for i in l2:\n",
    "    if i not in new_list:\n",
    "        new_list.append(i)\n",
    "print(new_list)"
   ]
  },
  {
   "cell_type": "markdown",
   "id": "c55f723b",
   "metadata": {},
   "source": [
    "# Tuples"
   ]
  },
  {
   "cell_type": "code",
   "execution_count": 5,
   "id": "2f6311d1",
   "metadata": {},
   "outputs": [
    {
     "name": "stdout",
     "output_type": "stream",
     "text": [
      "6000\n",
      "10\n",
      "30\n"
     ]
    }
   ],
   "source": [
    "tpl = (10,20,30)\n",
    "x,y,z = tpl\n",
    "multipul = x*y*z\n",
    "print(multipul)\n",
    "print(x)\n",
    "print(z)"
   ]
  },
  {
   "cell_type": "code",
   "execution_count": 7,
   "id": "610ad0d1",
   "metadata": {},
   "outputs": [
    {
     "name": "stdout",
     "output_type": "stream",
     "text": [
      "dict_keys(['name', 'Roll.No', 'Salary'])\n",
      "dict_values([['Awais', 'Ahmad', 'Sufyan', 'Umair', 'Hamza'], [78, 67, 70, 45, 58], [3000, 2000, 5000, 1000, 5000]])\n"
     ]
    }
   ],
   "source": [
    "person_detail = {\n",
    "    \"name\":[\"Awais\",\"Ahmad\",\"Sufyan\",\"Umair\",\"Hamza\"],\n",
    "    \"Roll.No\":[78,67,70,45,58],\n",
    "    \"Salary\":[3000,2000,5000,1000,5000]\n",
    "}\n",
    "print(person_detail.keys())\n",
    "print(person_detail.values())"
   ]
  },
  {
   "cell_type": "code",
   "execution_count": 10,
   "id": "093b596a",
   "metadata": {},
   "outputs": [
    {
     "name": "stdout",
     "output_type": "stream",
     "text": [
      "['Awais', 'Ahmad', 'Sufyan', 'Umair', 'Hamza']\n",
      "[3000, 2000, 5000, 1000, 5000]\n"
     ]
    }
   ],
   "source": [
    "print(person_detail.get('name'))\n",
    "print(person_detail.get('Salary'))"
   ]
  },
  {
   "cell_type": "code",
   "execution_count": 11,
   "id": "e924e6b9",
   "metadata": {},
   "outputs": [],
   "source": [
    "person_detail['is_active']=True"
   ]
  },
  {
   "cell_type": "code",
   "execution_count": 12,
   "id": "a03dfe62",
   "metadata": {},
   "outputs": [
    {
     "name": "stdout",
     "output_type": "stream",
     "text": [
      "{'name': ['Awais', 'Ahmad', 'Sufyan', 'Umair', 'Hamza'], 'Roll.No': [78, 67, 70, 45, 58], 'Salary': [3000, 2000, 5000, 1000, 5000], 'is_active': True}\n"
     ]
    }
   ],
   "source": [
    "print(person_detail)"
   ]
  },
  {
   "cell_type": "code",
   "execution_count": 13,
   "id": "8712dc81",
   "metadata": {},
   "outputs": [
    {
     "name": "stdout",
     "output_type": "stream",
     "text": [
      "zero three one nine one one eight seven zero three three \n"
     ]
    }
   ],
   "source": [
    "maping = {\n",
    "    '1':'one',\n",
    "    '2':'two',\n",
    "    '3':'three',\n",
    "    '4':'four',\n",
    "    '5':'five',\n",
    "    '6':'six',\n",
    "    '7':'seven',\n",
    "    '8':'eight',\n",
    "    '9':'nine',\n",
    "    '0':'zero'\n",
    "}\n",
    "output = \"\"\n",
    "phone = input(\"Enter your phone number: \")\n",
    "for char in phone:\n",
    "    output+=maping.get(char)+\" \"\n",
    "\n",
    "print(output)\n"
   ]
  },
  {
   "cell_type": "code",
   "execution_count": 3,
   "id": "dfe8462b",
   "metadata": {},
   "outputs": [
    {
     "name": "stdout",
     "output_type": "stream",
     "text": [
      "😁\n"
     ]
    }
   ],
   "source": [
    "maping_1 = {\n",
    "    \":)\":'😊',\n",
    "    \":(\":\"😞\",\n",
    "    \":()\":\"😁\"\n",
    "}\n",
    "msg = input(\"Enter your message: \")\n",
    "words = msg.split(\" \")\n",
    "output = ''\n",
    "for i in words:\n",
    "    output+=maping_1.get(i,i)\n",
    "print(output)"
   ]
  },
  {
   "cell_type": "markdown",
   "id": "75b839ca",
   "metadata": {},
   "source": [
    "# Functions"
   ]
  },
  {
   "cell_type": "code",
   "execution_count": 4,
   "id": "595b6fc6",
   "metadata": {},
   "outputs": [
    {
     "name": "stdout",
     "output_type": "stream",
     "text": [
      "Muhammad Awais\n"
     ]
    }
   ],
   "source": [
    "def student_name(fname, lname):\n",
    "    print(fname, lname)\n",
    "student_name(\"Muhammad\", \"Awais\")"
   ]
  },
  {
   "cell_type": "code",
   "execution_count": 6,
   "id": "27fba58f",
   "metadata": {},
   "outputs": [
    {
     "name": "stdout",
     "output_type": "stream",
     "text": [
      "This is about the Docstring\n"
     ]
    }
   ],
   "source": [
    "def evenOdd(n):\n",
    "    '''This is about the Docstring'''\n",
    "    if n%2==0:\n",
    "        print(f\"{n} is Even:\")\n",
    "    else:\n",
    "        print(f\"{n} is Odd:\")\n",
    "\n",
    "print(evenOdd.__doc__)\n"
   ]
  },
  {
   "cell_type": "code",
   "execution_count": 8,
   "id": "3ef5496e",
   "metadata": {},
   "outputs": [
    {
     "name": "stdout",
     "output_type": "stream",
     "text": [
      "hello\n",
      "25\n",
      "3.5\n",
      "True\n"
     ]
    }
   ],
   "source": [
    "def fun(*args):\n",
    "    for i in args:\n",
    "        print(i)\n",
    "fun(\"hello\", 25, 3.5, True)"
   ]
  },
  {
   "cell_type": "code",
   "execution_count": 11,
   "id": "6d243b1b",
   "metadata": {},
   "outputs": [
    {
     "name": "stdout",
     "output_type": "stream",
     "text": [
      "name Muhammad Awais\n",
      "age 25\n",
      "cgpa 3.5\n"
     ]
    }
   ],
   "source": [
    "def myfun(**kwargs):\n",
    "    for keys, values in kwargs.items():\n",
    "        print(keys, values)\n",
    "\n",
    "myfun(name='Muhammad Awais', age=25, cgpa=3.5)"
   ]
  },
  {
   "cell_type": "code",
   "execution_count": 12,
   "id": "cb234ae2",
   "metadata": {},
   "outputs": [
    {
     "data": {
      "text/plain": [
       "(20, 10)"
      ]
     },
     "execution_count": 12,
     "metadata": {},
     "output_type": "execute_result"
    }
   ],
   "source": [
    "def swaping(x,y):\n",
    "    temp=x\n",
    "    x=y\n",
    "    y=temp\n",
    "    return x,y\n",
    "swaping(10,20)"
   ]
  },
  {
   "cell_type": "code",
   "execution_count": 15,
   "id": "7c8f161a",
   "metadata": {},
   "outputs": [
    {
     "name": "stdout",
     "output_type": "stream",
     "text": [
      "10 is Even\n"
     ]
    }
   ],
   "source": [
    "def evenOdd(n):\n",
    "    if n%2==0:\n",
    "        print(f\"{n} is Even\")\n",
    "    else:\n",
    "        print(f\"{n} is Odd\")\n",
    "evenOdd(10)"
   ]
  },
  {
   "cell_type": "code",
   "execution_count": 14,
   "id": "01b34b40",
   "metadata": {},
   "outputs": [
    {
     "data": {
      "text/plain": [
       "120"
      ]
     },
     "execution_count": 14,
     "metadata": {},
     "output_type": "execute_result"
    }
   ],
   "source": [
    "def fectorial(n):\n",
    "    if n==0:\n",
    "        return 1\n",
    "    else:\n",
    "        return n*fectorial(n-1)\n",
    "fectorial(5)\n"
   ]
  },
  {
   "cell_type": "code",
   "execution_count": 22,
   "id": "41f7dec7",
   "metadata": {},
   "outputs": [
    {
     "name": "stdout",
     "output_type": "stream",
     "text": [
      "16\n",
      "True\n",
      "Positive\n",
      "Zero\n",
      "Negitive\n"
     ]
    }
   ],
   "source": [
    "# lambda\n",
    "sqr = lambda x:x**2\n",
    "print(sqr(4))\n",
    "\n",
    "evnod = lambda x: x%2==0\n",
    "print(evnod(10))\n",
    "\n",
    "n = lambda x:\"Positive\" if x>0 else \"Negitive\" if x<0 else \"Zero\"\n",
    "print(n(10))\n",
    "print(n(0))\n",
    "print(n(-10))\n",
    "\n"
   ]
  },
  {
   "cell_type": "code",
   "execution_count": 27,
   "id": "79653a7b",
   "metadata": {},
   "outputs": [
    {
     "name": "stdout",
     "output_type": "stream",
     "text": [
      "[4, 8, 10, 20]\n"
     ]
    }
   ],
   "source": [
    "l = [1,4,7,8,10,20,13]\n",
    "even = filter(lambda x:x%2==0,l)\n",
    "print(list(even))"
   ]
  },
  {
   "cell_type": "code",
   "execution_count": 31,
   "id": "8ad09927",
   "metadata": {},
   "outputs": [
    {
     "name": "stdout",
     "output_type": "stream",
     "text": [
      "15\n",
      "20\n"
     ]
    }
   ],
   "source": [
    "def outer():\n",
    "    x=10\n",
    "    def inner():\n",
    "        nonlocal x\n",
    "        x+=5\n",
    "        return x\n",
    "    return inner\n",
    "clouser = outer()\n",
    "print(clouser())\n",
    "print(clouser())"
   ]
  },
  {
   "cell_type": "code",
   "execution_count": 32,
   "id": "03141328",
   "metadata": {},
   "outputs": [
    {
     "name": "stdout",
     "output_type": "stream",
     "text": [
      "[1]\n",
      "[1, 2]\n"
     ]
    }
   ],
   "source": [
    "def fun(a,b=[]):\n",
    "    b.append(a)\n",
    "    return b\n",
    "print(fun(1))\n",
    "print(fun(2))"
   ]
  },
  {
   "cell_type": "code",
   "execution_count": 7,
   "id": "46828a7d",
   "metadata": {},
   "outputs": [
    {
     "name": "stdout",
     "output_type": "stream",
     "text": [
      "Third largest number is: 7\n"
     ]
    }
   ],
   "source": [
    "l = [1, 2, 3, 4, 5, 6, 7, 8, 9]\n",
    "\n",
    "first = second = third = float('-inf')  # very small number\n",
    "\n",
    "for i in l:\n",
    "    if i > first:\n",
    "        third = second\n",
    "        second = first\n",
    "        first = i\n",
    "    elif i > second and i != first:\n",
    "        third = second\n",
    "        second = i\n",
    "    elif i > third and i != second and i != first:\n",
    "        third = i\n",
    "\n",
    "print(\"Third largest number is:\", third)\n",
    "\n"
   ]
  },
  {
   "cell_type": "code",
   "execution_count": 12,
   "id": "edb7ac80",
   "metadata": {},
   "outputs": [
    {
     "name": "stdout",
     "output_type": "stream",
     "text": [
      "[1, 2, 3, 4, 5, 6]\n"
     ]
    }
   ],
   "source": [
    "l=[1,2,2,3,4,5,1,6,5,6,4,3,2]\n",
    "new_l = []\n",
    "for i in l:\n",
    "   if i not in new_l:\n",
    "    new_l.append(i)\n",
    "\n",
    "\n",
    "print(new_l)"
   ]
  },
  {
   "cell_type": "code",
   "execution_count": null,
   "id": "85cf2086",
   "metadata": {},
   "outputs": [
    {
     "name": "stdout",
     "output_type": "stream",
     "text": [
      "1\n",
      "2\n",
      "3\n",
      "4\n",
      "5\n",
      "6\n",
      "7\n",
      "8\n",
      "9\n"
     ]
    }
   ],
   "source": [
    "l = [1, 2, 3, 4, 5, 6, 7, 8, 9]\n",
    "new_list=[]\n",
    "# l[::-1]\n",
    "for i in l:\n",
    "    print(i)\n"
   ]
  },
  {
   "cell_type": "code",
   "execution_count": null,
   "id": "786c5d35",
   "metadata": {},
   "outputs": [
    {
     "data": {
      "text/plain": [
       "120"
      ]
     },
     "execution_count": 9,
     "metadata": {},
     "output_type": "execute_result"
    }
   ],
   "source": [
    "def factorial(n):\n",
    "    fact=1\n",
    "    if n==0:\n",
    "        return 1\n",
    "    else:\n",
    "        for i in range(1,n+1):\n",
    "            fact = fact*i\n",
    "        return fact\n",
    "factorial(5)"
   ]
  },
  {
   "cell_type": "code",
   "execution_count": 13,
   "id": "14ccb11b",
   "metadata": {},
   "outputs": [
    {
     "name": "stdout",
     "output_type": "stream",
     "text": [
      "15\n",
      "120\n",
      "(1,1)(1,2)(1,3)(1,4)(1,5)(2,1)(2,2)(2,3)(2,4)(2,5)(3,1)(3,2)(3,3)(3,4)(3,5)(4,1)(4,2)(4,3)(4,4)(4,5)(5,1)(5,2)(5,3)(5,4)(5,5)"
     ]
    }
   ],
   "source": [
    "l=[1,2,3,4,5]\n",
    "\n",
    "sum=0\n",
    "for i in l:\n",
    "    sum+=i\n",
    "print(sum)\n",
    "\n",
    "multipul=1\n",
    "for i in l:\n",
    "    multipul*=i\n",
    "print(multipul)\n",
    "\n",
    "for i in l:\n",
    "    for j in l:\n",
    "        print(f\"({i},{j})\", end=\"\")"
   ]
  },
  {
   "cell_type": "code",
   "execution_count": 16,
   "id": "2c539457",
   "metadata": {},
   "outputs": [
    {
     "name": "stdout",
     "output_type": "stream",
     "text": [
      "<class 'str'>\n",
      "1234\n"
     ]
    }
   ],
   "source": [
    "number=1234\n",
    "# print(type(number))\n",
    "string = str(number)\n",
    "print(type(string))\n",
    "print(string)"
   ]
  },
  {
   "cell_type": "code",
   "execution_count": 21,
   "id": "96029e83",
   "metadata": {},
   "outputs": [
    {
     "name": "stdout",
     "output_type": "stream",
     "text": [
      "(1,2)(1,3)(1,4)(1,5)(1,6)(2,3)(2,4)(2,5)(2,6)(3,4)(3,5)(3,6)(4,5)(4,6)(5,6)"
     ]
    }
   ],
   "source": [
    "a=[1,2,3,4,5]\n",
    "b=[2,3,4,5,6]\n",
    "for i in a:\n",
    "    for j in b:\n",
    "        if i<j:\n",
    "            print(f\"({i},{j})\", end=\"\")"
   ]
  },
  {
   "cell_type": "code",
   "execution_count": 25,
   "id": "fee748b5",
   "metadata": {},
   "outputs": [
    {
     "name": "stdout",
     "output_type": "stream",
     "text": [
      "[1, 4, 3, 2, 5]\n"
     ]
    }
   ],
   "source": [
    "l=[1,2,3,4,5]\n",
    "for i in range(1, len(l)//2):\n",
    "    other =len(l)-i-1\n",
    "    temp=l[i]\n",
    "    l[i]=l[other]\n",
    "    l[other]=temp\n",
    "\n",
    "print(l)"
   ]
  },
  {
   "cell_type": "code",
   "execution_count": null,
   "id": "82f8dfde",
   "metadata": {},
   "outputs": [],
   "source": []
  }
 ],
 "metadata": {
  "kernelspec": {
   "display_name": "pandas",
   "language": "python",
   "name": "python3"
  },
  "language_info": {
   "codemirror_mode": {
    "name": "ipython",
    "version": 3
   },
   "file_extension": ".py",
   "mimetype": "text/x-python",
   "name": "python",
   "nbconvert_exporter": "python",
   "pygments_lexer": "ipython3",
   "version": "3.13.2"
  }
 },
 "nbformat": 4,
 "nbformat_minor": 5
}
