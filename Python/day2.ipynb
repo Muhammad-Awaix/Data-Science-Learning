{
 "cells": [
  {
   "cell_type": "markdown",
   "id": "936128ce",
   "metadata": {},
   "source": [
    "# Dictionaries"
   ]
  },
  {
   "cell_type": "code",
   "execution_count": 1,
   "id": "01a754b2",
   "metadata": {},
   "outputs": [
    {
     "data": {
      "text/plain": [
       "{'name': 'Muhammad Awais', 'age': 25, 'is_active': True, 'learning': 'yes'}"
      ]
     },
     "execution_count": 1,
     "metadata": {},
     "output_type": "execute_result"
    }
   ],
   "source": [
    "dic = dict(name='Muhammad Awais', age=25, is_active=True, learning='yes')\n",
    "dic"
   ]
  },
  {
   "cell_type": "code",
   "execution_count": 4,
   "id": "da450675",
   "metadata": {},
   "outputs": [
    {
     "name": "stdout",
     "output_type": "stream",
     "text": [
      "Muhammad Awais\n",
      "Muhammad Awais\n"
     ]
    }
   ],
   "source": [
    "print(dic['name'])\n",
    "print(dic.get('name'))"
   ]
  },
  {
   "cell_type": "code",
   "execution_count": 7,
   "id": "b01f00a5",
   "metadata": {},
   "outputs": [
    {
     "data": {
      "text/plain": [
       "{'name': 'Muhammad Awais',\n",
       " 'age': 35,\n",
       " 'is_active': True,\n",
       " 'learning': 'yes',\n",
       " 1: 25}"
      ]
     },
     "execution_count": 7,
     "metadata": {},
     "output_type": "execute_result"
    }
   ],
   "source": [
    "dic['age']=35\n",
    "dic\n"
   ]
  },
  {
   "cell_type": "code",
   "execution_count": 14,
   "id": "89f390ad",
   "metadata": {},
   "outputs": [
    {
     "name": "stdout",
     "output_type": "stream",
     "text": [
      "age\n",
      "is_active\n",
      "learning\n",
      "1\n"
     ]
    }
   ],
   "source": [
    "for j in dic.keys():\n",
    "    print(j)\n"
   ]
  },
  {
   "cell_type": "code",
   "execution_count": 13,
   "id": "96c9f0ed",
   "metadata": {},
   "outputs": [
    {
     "name": "stdout",
     "output_type": "stream",
     "text": [
      "35\n",
      "True\n",
      "yes\n",
      "25\n"
     ]
    }
   ],
   "source": [
    "for i in dic.values():\n",
    "    print (i)"
   ]
  },
  {
   "cell_type": "code",
   "execution_count": 16,
   "id": "7fea54b3",
   "metadata": {},
   "outputs": [
    {
     "name": "stdout",
     "output_type": "stream",
     "text": [
      "age:35\n",
      "is_active:True\n",
      "learning:yes\n",
      "1:25\n"
     ]
    }
   ],
   "source": [
    "for key, value in dic.items():\n",
    "    print(f'{key}:{value}')"
   ]
  },
  {
   "cell_type": "code",
   "execution_count": 17,
   "id": "aaad9c64",
   "metadata": {},
   "outputs": [
    {
     "data": {
      "text/plain": [
       "dict_items([('age', 35), ('is_active', True), ('learning', 'yes'), (1, 25)])"
      ]
     },
     "execution_count": 17,
     "metadata": {},
     "output_type": "execute_result"
    }
   ],
   "source": [
    "dic.items()"
   ]
  },
  {
   "cell_type": "code",
   "execution_count": 26,
   "id": "36d33454",
   "metadata": {},
   "outputs": [
    {
     "name": "stdout",
     "output_type": "stream",
     "text": [
      "4\n",
      "{'a': 'Welcome', 'b': 'to', 'c': 'gfg'}\n",
      "dict_keys(['a', 'b', 'c'])\n",
      "{1: 'geeks', 2: 'for', 3: 'geeks', 4: {'a': 'Welcome', 'b': 'to', 'c': 'geeksforgeeks'}}\n"
     ]
    }
   ],
   "source": [
    "multi = {1:'geeks',2:'for',3:'geeks',4:{'a':'Welcome','b':'to','c':'gfg'}}\n",
    "print(len(multi))\n",
    "print(multi[4])\n",
    "print(multi[4].keys())\n",
    "# Updating\n",
    "multi[4]['c']='geeksforgeeks'\n",
    "print(multi)"
   ]
  },
  {
   "cell_type": "markdown",
   "id": "8fb9af92",
   "metadata": {},
   "source": [
    "# Tuples"
   ]
  },
  {
   "cell_type": "code",
   "execution_count": 27,
   "id": "816fea09",
   "metadata": {},
   "outputs": [
    {
     "name": "stdout",
     "output_type": "stream",
     "text": [
      "1\n",
      "2\n",
      "[3, 4, 5, 6, 7, 8]\n"
     ]
    }
   ],
   "source": [
    "tup = (1,2,3,4,5,6,7,8)\n",
    "a,b,*c = tup\n",
    "print(a)\n",
    "print(b)\n",
    "print(c)"
   ]
  },
  {
   "cell_type": "code",
   "execution_count": 62,
   "id": "39e1f63c",
   "metadata": {},
   "outputs": [
    {
     "name": "stdout",
     "output_type": "stream",
     "text": [
      "(2,)\n",
      "(4,)\n",
      "(6,)\n",
      "(8,)\n",
      "(10,)\n",
      "(12,)\n",
      "(14,)\n",
      "(16,)\n"
     ]
    }
   ],
   "source": [
    "for i in tup:\n",
    "    print((i*2,))"
   ]
  },
  {
   "cell_type": "markdown",
   "id": "3ab39bd5",
   "metadata": {},
   "source": [
    "# sets"
   ]
  },
  {
   "cell_type": "code",
   "execution_count": 39,
   "id": "b0551e69",
   "metadata": {},
   "outputs": [
    {
     "name": "stdout",
     "output_type": "stream",
     "text": [
      "<class 'set'>\n",
      "{1, 2, 3, 4, 5, 'Awais'}\n",
      "{1, 2, 3, 4, 5, 'Awais'} {5, 6, 7, 8, 9}\n"
     ]
    }
   ],
   "source": [
    "st = {1,2,3,4,5}\n",
    "st1 = set([5,6,7,8,9])\n",
    "print(type(st))\n",
    "st.add('Awais')\n",
    "print(st)\n",
    "print(st,st1)\n"
   ]
  },
  {
   "cell_type": "code",
   "execution_count": 41,
   "id": "70da8315",
   "metadata": {},
   "outputs": [
    {
     "name": "stdout",
     "output_type": "stream",
     "text": [
      "{1, 2, 3, 4, 5, 6, 7, 8}\n",
      "frozenset({1, 2, 3, 4, 5})\n"
     ]
    }
   ],
   "source": [
    "#normal set\n",
    "st2 = set([1,2,2,3,3,4,5,6,1,7,8,2])\n",
    "print(st2)\n",
    "\n",
    "#Frozenset\n",
    "st3 = frozenset([1,2,1,3,4,5,2])\n",
    "print(st3)"
   ]
  },
  {
   "cell_type": "code",
   "execution_count": 44,
   "id": "fc8e65c9",
   "metadata": {},
   "outputs": [
    {
     "name": "stdout",
     "output_type": "stream",
     "text": [
      "{1, 2, 3, 4, 5, 6, 7, 8, 9, 'Awais'}\n",
      "{5}\n",
      "{1, 2, 3, 4, 5, 6, 7, 8, 9, 'Awais'}\n"
     ]
    }
   ],
   "source": [
    "un = st.union(st1)\n",
    "print(un)\n",
    "# merge all the values except repeated values\n",
    "\n",
    "inter = st.intersection(st1)\n",
    "print(inter)\n",
    "# only show the values present in both\n",
    "\n",
    "popu = st|st1\n",
    "print(popu)"
   ]
  },
  {
   "cell_type": "code",
   "execution_count": 49,
   "id": "a060cc9b",
   "metadata": {},
   "outputs": [
    {
     "name": "stdout",
     "output_type": "stream",
     "text": [
      "{1, 2, 3, 4, 5}\n",
      "{3, 4, 5, 6, 7}\n",
      "{3, 4, 5}\n",
      "{1, 2}\n",
      "{6, 7}\n"
     ]
    }
   ],
   "source": [
    "set1 = set()\n",
    "set2 = set()\n",
    "\n",
    "for i in range(1,6):\n",
    "    set1.add(i)\n",
    "\n",
    "for i in range(3,8):\n",
    "    set2.add(i)\n",
    "\n",
    "print(set1)\n",
    "print(set2)\n",
    "\n",
    "inters = set1&set2\n",
    "print(inters)\n",
    "\n",
    "diff1 = set1.difference(set2)\n",
    "print(diff1)\n",
    "\n",
    "\n",
    "diff2 = set2-set1\n",
    "print(diff2)\n",
    "\n",
    "\n",
    "# give all the values that are not present in the other set"
   ]
  },
  {
   "cell_type": "code",
   "execution_count": 51,
   "id": "9eb61e4c",
   "metadata": {},
   "outputs": [
    {
     "name": "stdout",
     "output_type": "stream",
     "text": [
      "set()\n"
     ]
    }
   ],
   "source": [
    "set1.clear()\n",
    "print(set1)"
   ]
  },
  {
   "cell_type": "code",
   "execution_count": 2,
   "id": "9a9be1bb",
   "metadata": {},
   "outputs": [
    {
     "name": "stdout",
     "output_type": "stream",
     "text": [
      "['g', 'ksforg', 'ks']\n"
     ]
    }
   ],
   "source": [
    "print('geeksforgeeks'.split('ee'))"
   ]
  },
  {
   "cell_type": "code",
   "execution_count": 3,
   "id": "5e0372ed",
   "metadata": {},
   "outputs": [
    {
     "data": {
      "text/plain": [
       "(0, 10)"
      ]
     },
     "execution_count": 3,
     "metadata": {},
     "output_type": "execute_result"
    }
   ],
   "source": [
    "a,b=10,20\n",
    "divmod(a,b)"
   ]
  },
  {
   "cell_type": "code",
   "execution_count": 5,
   "id": "571f4f06",
   "metadata": {},
   "outputs": [
    {
     "name": "stdout",
     "output_type": "stream",
     "text": [
      "(2.0, 0.5)\n",
      "(2.0, 0.0)\n"
     ]
    }
   ],
   "source": [
    "print(divmod(10.5,5))\n",
    "print(divmod(2.4,1.2))"
   ]
  },
  {
   "cell_type": "code",
   "execution_count": 7,
   "id": "4a9f8987",
   "metadata": {},
   "outputs": [],
   "source": [
    "import pandas as pd"
   ]
  },
  {
   "cell_type": "code",
   "execution_count": 13,
   "id": "663c8c84",
   "metadata": {},
   "outputs": [],
   "source": [
    "data1 = {\n",
    "    'id':[1,2,3,4],\n",
    "    'name':['awais','hamza','rizwan','usman'],\n",
    "    'age':[24,23,31,35]\n",
    "}\n",
    "data2 = {\n",
    "    'id':[1,2,3,5],\n",
    "    'city':['ccw','sahiwal', 'saudia','saudia'],\n",
    "    'occup':['Data Scientist','student', 'computer operator', 'employee']\n",
    "}"
   ]
  },
  {
   "cell_type": "code",
   "execution_count": 14,
   "id": "7fba4429",
   "metadata": {},
   "outputs": [],
   "source": [
    "df1 = pd.DataFrame(data1)\n",
    "df2 = pd.DataFrame(data2)"
   ]
  },
  {
   "cell_type": "code",
   "execution_count": 15,
   "id": "5c103204",
   "metadata": {},
   "outputs": [
    {
     "data": {
      "text/html": [
       "<div>\n",
       "<style scoped>\n",
       "    .dataframe tbody tr th:only-of-type {\n",
       "        vertical-align: middle;\n",
       "    }\n",
       "\n",
       "    .dataframe tbody tr th {\n",
       "        vertical-align: top;\n",
       "    }\n",
       "\n",
       "    .dataframe thead th {\n",
       "        text-align: right;\n",
       "    }\n",
       "</style>\n",
       "<table border=\"1\" class=\"dataframe\">\n",
       "  <thead>\n",
       "    <tr style=\"text-align: right;\">\n",
       "      <th></th>\n",
       "      <th>id</th>\n",
       "      <th>name</th>\n",
       "      <th>age</th>\n",
       "    </tr>\n",
       "  </thead>\n",
       "  <tbody>\n",
       "    <tr>\n",
       "      <th>0</th>\n",
       "      <td>1</td>\n",
       "      <td>awais</td>\n",
       "      <td>24</td>\n",
       "    </tr>\n",
       "    <tr>\n",
       "      <th>1</th>\n",
       "      <td>2</td>\n",
       "      <td>hamza</td>\n",
       "      <td>23</td>\n",
       "    </tr>\n",
       "    <tr>\n",
       "      <th>2</th>\n",
       "      <td>3</td>\n",
       "      <td>rizwan</td>\n",
       "      <td>31</td>\n",
       "    </tr>\n",
       "    <tr>\n",
       "      <th>3</th>\n",
       "      <td>4</td>\n",
       "      <td>usman</td>\n",
       "      <td>35</td>\n",
       "    </tr>\n",
       "  </tbody>\n",
       "</table>\n",
       "</div>"
      ],
      "text/plain": [
       "   id    name  age\n",
       "0   1   awais   24\n",
       "1   2   hamza   23\n",
       "2   3  rizwan   31\n",
       "3   4   usman   35"
      ]
     },
     "execution_count": 15,
     "metadata": {},
     "output_type": "execute_result"
    }
   ],
   "source": [
    "df1"
   ]
  },
  {
   "cell_type": "code",
   "execution_count": 16,
   "id": "cc7c337b",
   "metadata": {},
   "outputs": [
    {
     "data": {
      "text/html": [
       "<div>\n",
       "<style scoped>\n",
       "    .dataframe tbody tr th:only-of-type {\n",
       "        vertical-align: middle;\n",
       "    }\n",
       "\n",
       "    .dataframe tbody tr th {\n",
       "        vertical-align: top;\n",
       "    }\n",
       "\n",
       "    .dataframe thead th {\n",
       "        text-align: right;\n",
       "    }\n",
       "</style>\n",
       "<table border=\"1\" class=\"dataframe\">\n",
       "  <thead>\n",
       "    <tr style=\"text-align: right;\">\n",
       "      <th></th>\n",
       "      <th>id</th>\n",
       "      <th>city</th>\n",
       "      <th>occup</th>\n",
       "    </tr>\n",
       "  </thead>\n",
       "  <tbody>\n",
       "    <tr>\n",
       "      <th>0</th>\n",
       "      <td>1</td>\n",
       "      <td>ccw</td>\n",
       "      <td>Data Scientist</td>\n",
       "    </tr>\n",
       "    <tr>\n",
       "      <th>1</th>\n",
       "      <td>2</td>\n",
       "      <td>sahiwal</td>\n",
       "      <td>student</td>\n",
       "    </tr>\n",
       "    <tr>\n",
       "      <th>2</th>\n",
       "      <td>3</td>\n",
       "      <td>saudia</td>\n",
       "      <td>computer operator</td>\n",
       "    </tr>\n",
       "    <tr>\n",
       "      <th>3</th>\n",
       "      <td>5</td>\n",
       "      <td>saudia</td>\n",
       "      <td>employee</td>\n",
       "    </tr>\n",
       "  </tbody>\n",
       "</table>\n",
       "</div>"
      ],
      "text/plain": [
       "   id     city              occup\n",
       "0   1      ccw     Data Scientist\n",
       "1   2  sahiwal            student\n",
       "2   3   saudia  computer operator\n",
       "3   5   saudia           employee"
      ]
     },
     "execution_count": 16,
     "metadata": {},
     "output_type": "execute_result"
    }
   ],
   "source": [
    "df2"
   ]
  },
  {
   "cell_type": "code",
   "execution_count": 17,
   "id": "b45b709a",
   "metadata": {},
   "outputs": [],
   "source": [
    "merge_df = pd.merge(df1, df2, on='id', how='inner')"
   ]
  },
  {
   "cell_type": "code",
   "execution_count": 12,
   "id": "7778d89a",
   "metadata": {},
   "outputs": [
    {
     "data": {
      "text/html": [
       "<div>\n",
       "<style scoped>\n",
       "    .dataframe tbody tr th:only-of-type {\n",
       "        vertical-align: middle;\n",
       "    }\n",
       "\n",
       "    .dataframe tbody tr th {\n",
       "        vertical-align: top;\n",
       "    }\n",
       "\n",
       "    .dataframe thead th {\n",
       "        text-align: right;\n",
       "    }\n",
       "</style>\n",
       "<table border=\"1\" class=\"dataframe\">\n",
       "  <thead>\n",
       "    <tr style=\"text-align: right;\">\n",
       "      <th></th>\n",
       "      <th>id</th>\n",
       "      <th>name</th>\n",
       "      <th>age</th>\n",
       "      <th>city</th>\n",
       "      <th>occup</th>\n",
       "    </tr>\n",
       "  </thead>\n",
       "  <tbody>\n",
       "    <tr>\n",
       "      <th>0</th>\n",
       "      <td>1</td>\n",
       "      <td>awais</td>\n",
       "      <td>24</td>\n",
       "      <td>ccw</td>\n",
       "      <td>Data Scientist</td>\n",
       "    </tr>\n",
       "    <tr>\n",
       "      <th>1</th>\n",
       "      <td>2</td>\n",
       "      <td>hamza</td>\n",
       "      <td>23</td>\n",
       "      <td>sahiwal</td>\n",
       "      <td>student</td>\n",
       "    </tr>\n",
       "    <tr>\n",
       "      <th>2</th>\n",
       "      <td>3</td>\n",
       "      <td>rizwan</td>\n",
       "      <td>31</td>\n",
       "      <td>saudia</td>\n",
       "      <td>computer operator</td>\n",
       "    </tr>\n",
       "    <tr>\n",
       "      <th>3</th>\n",
       "      <td>4</td>\n",
       "      <td>usman</td>\n",
       "      <td>35</td>\n",
       "      <td>saudia</td>\n",
       "      <td>employee</td>\n",
       "    </tr>\n",
       "  </tbody>\n",
       "</table>\n",
       "</div>"
      ],
      "text/plain": [
       "   id    name  age     city              occup\n",
       "0   1   awais   24      ccw     Data Scientist\n",
       "1   2   hamza   23  sahiwal            student\n",
       "2   3  rizwan   31   saudia  computer operator\n",
       "3   4   usman   35   saudia           employee"
      ]
     },
     "execution_count": 12,
     "metadata": {},
     "output_type": "execute_result"
    }
   ],
   "source": [
    "merge_df"
   ]
  },
  {
   "cell_type": "markdown",
   "id": "cf5c62a7",
   "metadata": {},
   "source": [
    "# SQL"
   ]
  },
  {
   "cell_type": "code",
   "execution_count": 1,
   "id": "e7c1a959",
   "metadata": {},
   "outputs": [],
   "source": [
    "import sqlite3"
   ]
  },
  {
   "cell_type": "code",
   "execution_count": 2,
   "id": "132e0ed4",
   "metadata": {},
   "outputs": [],
   "source": [
    "conn = sqlite3.connect('example.db')"
   ]
  },
  {
   "cell_type": "code",
   "execution_count": 4,
   "id": "e84e30d3",
   "metadata": {},
   "outputs": [],
   "source": [
    "con_obj = conn.cursor()"
   ]
  },
  {
   "cell_type": "code",
   "execution_count": 5,
   "id": "7da362f3",
   "metadata": {},
   "outputs": [
    {
     "data": {
      "text/plain": [
       "<sqlite3.Cursor at 0x25dcb06bec0>"
      ]
     },
     "execution_count": 5,
     "metadata": {},
     "output_type": "execute_result"
    }
   ],
   "source": [
    "table = '''create table if not exists user(id integer primary key, name varcher(20) not null, email varchar(30) unique not null, city varchar(20), ccode char(2));'''\n",
    "con_obj.execute(table)"
   ]
  },
  {
   "cell_type": "code",
   "execution_count": 7,
   "id": "a5578488",
   "metadata": {},
   "outputs": [
    {
     "data": {
      "text/plain": [
       "<sqlite3.Cursor at 0x25dcb06bec0>"
      ]
     },
     "execution_count": 7,
     "metadata": {},
     "output_type": "execute_result"
    }
   ],
   "source": [
    "con_obj.execute('''insert into user values (1,'Muhammad Awais','awais100@gmail.com','Chichawatni', 'ccw')''')"
   ]
  },
  {
   "cell_type": "code",
   "execution_count": 10,
   "id": "b8aebf4f",
   "metadata": {},
   "outputs": [
    {
     "data": {
      "text/plain": [
       "<sqlite3.Cursor at 0x25dcb06bec0>"
      ]
     },
     "execution_count": 10,
     "metadata": {},
     "output_type": "execute_result"
    }
   ],
   "source": [
    "con_obj.execute('''insert into user values (2, \"Hamza\", \"hamza@gmail.com\",\"Sahiwal\", \"sw\"),(3, \"Rizwan\", \"rizwan@gmail.com\", \"Lahore\",\"lhr\")''')"
   ]
  },
  {
   "cell_type": "code",
   "execution_count": 11,
   "id": "f8775967",
   "metadata": {},
   "outputs": [
    {
     "data": {
      "text/plain": [
       "<sqlite3.Cursor at 0x25dcb06bec0>"
      ]
     },
     "execution_count": 11,
     "metadata": {},
     "output_type": "execute_result"
    }
   ],
   "source": [
    "con_obj.execute(\"Select * from user\")"
   ]
  },
  {
   "cell_type": "code",
   "execution_count": 12,
   "id": "0c0358d6",
   "metadata": {},
   "outputs": [
    {
     "name": "stdout",
     "output_type": "stream",
     "text": [
      "Your all the data is inserted successfully\n",
      "(1, 'Muhammad Awais', 'awais100@gmail.com', 'Chichawatni', 'ccw')\n",
      "(2, 'Hamza', 'hamza@gmail.com', 'Sahiwal', 'sw')\n",
      "(3, 'Rizwan', 'rizwan@gmail.com', 'Lahore', 'lhr')\n"
     ]
    }
   ],
   "source": [
    "print(\"Your all the data is inserted successfully\")\n",
    "output = con_obj.fetchall()\n",
    "for i in output:\n",
    "    print(i)"
   ]
  },
  {
   "cell_type": "code",
   "execution_count": 16,
   "id": "556949f5",
   "metadata": {},
   "outputs": [
    {
     "name": "stdout",
     "output_type": "stream",
     "text": [
      "(1, 'Muhammad Awais', 'awais100@gmail.com', 'Lahore', 'ccw')\n",
      "(2, 'Hamza', 'hamza@gmail.com', 'Sahiwal', 'sw')\n"
     ]
    }
   ],
   "source": [
    "quary_update = '''update user set city ='Lahore' where city=\"Chichawatni\"'''\n",
    "con_obj.execute(quary_update)\n",
    "\n",
    "show = con_obj.execute (\"Select * from user\")\n",
    "\n",
    "output = con_obj.fetchmany(2)\n",
    "for i in output:\n",
    "    print(i)"
   ]
  },
  {
   "cell_type": "code",
   "execution_count": 17,
   "id": "8b47b84f",
   "metadata": {},
   "outputs": [],
   "source": [
    "import pandas as pd"
   ]
  },
  {
   "cell_type": "code",
   "execution_count": 18,
   "id": "11b9d14f",
   "metadata": {},
   "outputs": [
    {
     "data": {
      "text/html": [
       "<div>\n",
       "<style scoped>\n",
       "    .dataframe tbody tr th:only-of-type {\n",
       "        vertical-align: middle;\n",
       "    }\n",
       "\n",
       "    .dataframe tbody tr th {\n",
       "        vertical-align: top;\n",
       "    }\n",
       "\n",
       "    .dataframe thead th {\n",
       "        text-align: right;\n",
       "    }\n",
       "</style>\n",
       "<table border=\"1\" class=\"dataframe\">\n",
       "  <thead>\n",
       "    <tr style=\"text-align: right;\">\n",
       "      <th></th>\n",
       "      <th>id</th>\n",
       "      <th>name</th>\n",
       "      <th>email</th>\n",
       "      <th>city</th>\n",
       "      <th>ccode</th>\n",
       "    </tr>\n",
       "  </thead>\n",
       "  <tbody>\n",
       "    <tr>\n",
       "      <th>0</th>\n",
       "      <td>1</td>\n",
       "      <td>Muhammad Awais</td>\n",
       "      <td>awais100@gmail.com</td>\n",
       "      <td>Lahore</td>\n",
       "      <td>ccw</td>\n",
       "    </tr>\n",
       "    <tr>\n",
       "      <th>1</th>\n",
       "      <td>2</td>\n",
       "      <td>Hamza</td>\n",
       "      <td>hamza@gmail.com</td>\n",
       "      <td>Sahiwal</td>\n",
       "      <td>sw</td>\n",
       "    </tr>\n",
       "    <tr>\n",
       "      <th>2</th>\n",
       "      <td>3</td>\n",
       "      <td>Rizwan</td>\n",
       "      <td>rizwan@gmail.com</td>\n",
       "      <td>Lahore</td>\n",
       "      <td>lhr</td>\n",
       "    </tr>\n",
       "  </tbody>\n",
       "</table>\n",
       "</div>"
      ],
      "text/plain": [
       "   id            name               email     city ccode\n",
       "0   1  Muhammad Awais  awais100@gmail.com   Lahore   ccw\n",
       "1   2           Hamza     hamza@gmail.com  Sahiwal    sw\n",
       "2   3          Rizwan    rizwan@gmail.com   Lahore   lhr"
      ]
     },
     "execution_count": 18,
     "metadata": {},
     "output_type": "execute_result"
    }
   ],
   "source": [
    "df = pd.read_sql_query('select * from user',conn)\n",
    "df"
   ]
  },
  {
   "cell_type": "markdown",
   "id": "e7d5c2a9",
   "metadata": {},
   "source": [
    "## Collection Objects"
   ]
  },
  {
   "cell_type": "code",
   "execution_count": 1,
   "id": "2452ac56",
   "metadata": {},
   "outputs": [],
   "source": [
    "from collections import Counter"
   ]
  },
  {
   "cell_type": "code",
   "execution_count": 2,
   "id": "8d6191d5",
   "metadata": {},
   "outputs": [
    {
     "name": "stdout",
     "output_type": "stream",
     "text": [
      "Counter({'a': 3, 'd': 3, 'c': 2, 'b': 1, 'e': 1, 'f': 1})\n"
     ]
    }
   ],
   "source": [
    "print(Counter(['a','b','a','c','d','d','d','c','e','f','a']))"
   ]
  },
  {
   "cell_type": "markdown",
   "id": "48f197c5",
   "metadata": {},
   "source": [
    "## Comprihensions"
   ]
  },
  {
   "cell_type": "markdown",
   "id": "69df16d5",
   "metadata": {},
   "source": [
    "### **List Comprehensions**"
   ]
  },
  {
   "cell_type": "code",
   "execution_count": 4,
   "id": "b084633e",
   "metadata": {},
   "outputs": [
    {
     "name": "stdout",
     "output_type": "stream",
     "text": [
      "[2, 4, 6, 8, 10]\n",
      "[2, 4, 6, 8, 10]\n"
     ]
    }
   ],
   "source": [
    "#1st Approch\n",
    "even_list = [i for i in range(1,11) if i%2==0]\n",
    "print(even_list)\n",
    "\n",
    "#2nd Approch\n",
    "even_list=[]\n",
    "for i in range(1,11):\n",
    "    if i%2==0:\n",
    "        even_list.append(i)\n",
    "print(even_list)"
   ]
  },
  {
   "cell_type": "code",
   "execution_count": 6,
   "id": "d3d0ebe7",
   "metadata": {},
   "outputs": [
    {
     "name": "stdout",
     "output_type": "stream",
     "text": [
      "[1, 3, 5, 7, 9]\n",
      "[1, 3, 5, 7, 9]\n"
     ]
    }
   ],
   "source": [
    "#1st Approch\n",
    "odd_list = [i for i in range(1,11) if i%2!=0]\n",
    "print(odd_list)\n",
    "\n",
    "#2nd Approch\n",
    "odd_list=[]\n",
    "for i in range(1,11):\n",
    "    if i %2!=0:\n",
    "        odd_list.append(i)\n",
    "print(odd_list)"
   ]
  },
  {
   "cell_type": "code",
   "execution_count": 8,
   "id": "b889348e",
   "metadata": {},
   "outputs": [
    {
     "name": "stdout",
     "output_type": "stream",
     "text": [
      "[1, 2, 3, 4, 5, 6, 7, 8, 9]\n"
     ]
    }
   ],
   "source": [
    "number = int(input(\"Enter a number from 1 to 50: \"))\n",
    "less_num = [i for i in range(1,number)]\n",
    "print(less_num)"
   ]
  },
  {
   "cell_type": "code",
   "execution_count": 12,
   "id": "717329b2",
   "metadata": {},
   "outputs": [
    {
     "data": {
      "text/plain": [
       "[12, 10, 33, 9, 0, 11, 23, 25, 36, 41]"
      ]
     },
     "execution_count": 12,
     "metadata": {},
     "output_type": "execute_result"
    }
   ],
   "source": [
    "l = [12,10,33,9,0,45,11,45,50,23,25,36,41]\n",
    "def smaller_num(l, number):\n",
    "    return [i for i in l if i<number]\n",
    "smaller_num(l,45)"
   ]
  },
  {
   "cell_type": "code",
   "execution_count": 13,
   "id": "2b4611e8",
   "metadata": {},
   "outputs": [
    {
     "name": "stdout",
     "output_type": "stream",
     "text": [
      "[12, 10, 0, 50, 36]\n",
      "[33, 9, 45, 11, 45, 23, 25, 41]\n"
     ]
    }
   ],
   "source": [
    "even_list = [i for i in l if i%2==0]\n",
    "print(even_list)\n",
    "odd_list = [j for j in l if j%2!=0 ]\n",
    "print(odd_list)"
   ]
  },
  {
   "cell_type": "code",
   "execution_count": 16,
   "id": "3663344f",
   "metadata": {},
   "outputs": [
    {
     "name": "stdout",
     "output_type": "stream",
     "text": [
      "['e', 'e', 'o', 'e', 'e']\n"
     ]
    }
   ],
   "source": [
    "s='geeksforgeeks'\n",
    "ovel = [i for i in s if i in 'aeiou']\n",
    "print(ovel)"
   ]
  },
  {
   "cell_type": "code",
   "execution_count": 17,
   "id": "ec9d0109",
   "metadata": {},
   "outputs": [
    {
     "name": "stdout",
     "output_type": "stream",
     "text": [
      "['geeks', 'geeks', 'good', 'gold']\n"
     ]
    }
   ],
   "source": [
    "s=['geeks','for','geeks','good','gold']\n",
    "s_g = [i for i in s if i.startswith('g')]\n",
    "print(s_g)"
   ]
  },
  {
   "cell_type": "code",
   "execution_count": 19,
   "id": "1d2fb376",
   "metadata": {},
   "outputs": [
    {
     "data": {
      "text/plain": [
       "['GEEKS', 'GEEKS', 'GOOD', 'GOLD']"
      ]
     },
     "execution_count": 19,
     "metadata": {},
     "output_type": "execute_result"
    }
   ],
   "source": [
    "[i.upper() for i in s if i.startswith('g')]"
   ]
  },
  {
   "cell_type": "markdown",
   "id": "4b5c048c",
   "metadata": {},
   "source": [
    "### Set Comprehension"
   ]
  },
  {
   "cell_type": "code",
   "execution_count": 20,
   "id": "33e9fc90",
   "metadata": {},
   "outputs": [
    {
     "name": "stdout",
     "output_type": "stream",
     "text": [
      "{10, 12, 20, 14}\n",
      "{11, 13, 15, 21, 23}\n"
     ]
    }
   ],
   "source": [
    "l=[10,12,14,11,13,15,20,21,23,20]\n",
    "s1 = {i for i in l if i%2==0}\n",
    "s2 = {i for i in l if i%2!=0}\n",
    "print(s1)\n",
    "print(s2)"
   ]
  },
  {
   "cell_type": "markdown",
   "id": "3483ee58",
   "metadata": {},
   "source": [
    "### Dict Comprehension"
   ]
  },
  {
   "cell_type": "code",
   "execution_count": 21,
   "id": "2bcdd92a",
   "metadata": {},
   "outputs": [
    {
     "name": "stdout",
     "output_type": "stream",
     "text": [
      "{10: 1000, 12: 1728, 14: 2744, 11: 1331, 13: 2197, 15: 3375, 20: 8000, 21: 9261, 23: 12167}\n"
     ]
    }
   ],
   "source": [
    "dkt = {x:x**3 for x in l}\n",
    "print(dkt)"
   ]
  },
  {
   "cell_type": "code",
   "execution_count": 23,
   "id": "d937526a",
   "metadata": {},
   "outputs": [
    {
     "name": "stdout",
     "output_type": "stream",
     "text": [
      "{101: 'geeks', 120: 'for', 130: 'geeks'}\n"
     ]
    }
   ],
   "source": [
    "l1=[101, 120, 130]\n",
    "l2=['geeks', 'for', 'geeks']\n",
    "d = {l1[i]:l2[i] for i in range(len(l1))}\n",
    "print(d)"
   ]
  },
  {
   "cell_type": "code",
   "execution_count": 25,
   "id": "a8dc4361",
   "metadata": {},
   "outputs": [
    {
     "name": "stdout",
     "output_type": "stream",
     "text": [
      "{'geeks': 130, 'for': 120}\n"
     ]
    }
   ],
   "source": [
    "d2 = {v:k for (k,v) in d.items()}\n",
    "print(d2)"
   ]
  },
  {
   "cell_type": "code",
   "execution_count": 6,
   "id": "acd82fbc",
   "metadata": {},
   "outputs": [
    {
     "name": "stdout",
     "output_type": "stream",
     "text": [
      "10 is greater\n"
     ]
    }
   ],
   "source": [
    "num1 = 0.1\n",
    "num2 = 0\n",
    "num3 = 10\n",
    "if num1>num2 and num1>num3:\n",
    "    print(f\"{num1} is greater\")\n",
    "elif num2>num1 and num2>num3:\n",
    "    print(f\"{num2} is greater\")\n",
    "else:\n",
    "    print(f\"{num3} is greater\")"
   ]
  },
  {
   "cell_type": "code",
   "execution_count": null,
   "id": "8c5d8d07",
   "metadata": {},
   "outputs": [
    {
     "name": "stdout",
     "output_type": "stream",
     "text": [
      "28\n"
     ]
    }
   ],
   "source": [
    "l1 = [1,2,3,4,5,6,7]\n",
    "sum = 0\n",
    "for i in l1:\n",
    "    sum=sum+i\n",
    "print(sum)\n",
    "\n",
    "l1 = [1,2,3,4,5,6,7]\n",
    "sum = 0\n",
    "for i in l1:\n",
    "    sum=sum-i\n",
    "print(sum)"
   ]
  },
  {
   "cell_type": "code",
   "execution_count": 7,
   "id": "00167077",
   "metadata": {},
   "outputs": [
    {
     "ename": "SyntaxError",
     "evalue": "invalid syntax (2736486717.py, line 4)",
     "output_type": "error",
     "traceback": [
      "  \u001b[36mCell\u001b[39m\u001b[36m \u001b[39m\u001b[32mIn[7]\u001b[39m\u001b[32m, line 4\u001b[39m\n\u001b[31m    \u001b[39m\u001b[31mprint(int(sum+=i))\u001b[39m\n                 ^\n\u001b[31mSyntaxError\u001b[39m\u001b[31m:\u001b[39m invalid syntax\n"
     ]
    }
   ],
   "source": [
    "number=123456\n",
    "sum = 0\n",
    "for i in str(number):\n",
    "    print(int(sum+=i))\n",
    "print(sum)"
   ]
  },
  {
   "cell_type": "code",
   "execution_count": null,
   "id": "ac8c8781",
   "metadata": {},
   "outputs": [],
   "source": []
  }
 ],
 "metadata": {
  "kernelspec": {
   "display_name": "pandas",
   "language": "python",
   "name": "python3"
  },
  "language_info": {
   "codemirror_mode": {
    "name": "ipython",
    "version": 3
   },
   "file_extension": ".py",
   "mimetype": "text/x-python",
   "name": "python",
   "nbconvert_exporter": "python",
   "pygments_lexer": "ipython3",
   "version": "3.13.2"
  }
 },
 "nbformat": 4,
 "nbformat_minor": 5
}
