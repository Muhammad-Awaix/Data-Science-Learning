{
 "cells": [
  {
   "cell_type": "markdown",
   "id": "235c185b",
   "metadata": {},
   "source": [
    "# Random Forest"
   ]
  },
  {
   "cell_type": "code",
   "execution_count": 1,
   "id": "e7b26b6f",
   "metadata": {},
   "outputs": [],
   "source": [
    "import pandas as pd\n",
    "import numpy as np\n",
    "import matplotlib.pyplot as plt\n",
    "import seaborn as sns\n",
    "from sklearn.impute import SimpleImputer\n",
    "from sklearn.preprocessing import LabelEncoder\n",
    "from sklearn.model_selection import train_test_split\n",
    "from sklearn.ensemble import RandomForestClassifier, RandomForestRegressor"
   ]
  },
  {
   "cell_type": "code",
   "execution_count": 2,
   "id": "3556a7dc",
   "metadata": {},
   "outputs": [
    {
     "name": "stdout",
     "output_type": "stream",
     "text": [
      "Mean: 4.125\n",
      "Median: 4.125\n",
      "Mode: 3\n"
     ]
    }
   ],
   "source": [
    "import scipy.stats as stats\n",
    "arr = [1,2,3,4,5,5,6,7]\n",
    "m_1 = np.mean(arr)\n",
    "print(f\"Mean: {m_1}\")\n",
    "m_2 = np.median(arr)\n",
    "print(f\"Median: {m_1}\")\n",
    "\n",
    "arr_1=[1,2,3,3,3,4,5,6,6,6,7,8,8]\n",
    "m_3 = stats.mode(arr_1)\n",
    "print(f\"Mode: {(m_3)[1]}\")"
   ]
  },
  {
   "cell_type": "code",
   "execution_count": null,
   "id": "cd801f6a",
   "metadata": {},
   "outputs": [],
   "source": []
  }
 ],
 "metadata": {
  "kernelspec": {
   "display_name": "ds_env",
   "language": "python",
   "name": "python3"
  },
  "language_info": {
   "codemirror_mode": {
    "name": "ipython",
    "version": 3
   },
   "file_extension": ".py",
   "mimetype": "text/x-python",
   "name": "python",
   "nbconvert_exporter": "python",
   "pygments_lexer": "ipython3",
   "version": "3.13.5"
  }
 },
 "nbformat": 4,
 "nbformat_minor": 5
}
