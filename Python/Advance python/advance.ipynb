{
 "cells": [
  {
   "cell_type": "markdown",
   "id": "dffac593",
   "metadata": {},
   "source": [
    "# Itrators\n",
    "-  iter"
   ]
  },
  {
   "cell_type": "code",
   "execution_count": 1,
   "id": "3fbc10cb",
   "metadata": {},
   "outputs": [
    {
     "name": "stdout",
     "output_type": "stream",
     "text": [
      "1\n",
      "2\n",
      "3\n",
      "4\n",
      "5\n",
      "6\n"
     ]
    }
   ],
   "source": [
    "my_list = [1,2,3,4,5,6]\n",
    "for i in my_list:\n",
    "    print(i)"
   ]
  },
  {
   "cell_type": "code",
   "execution_count": 25,
   "id": "8ac38e38",
   "metadata": {},
   "outputs": [
    {
     "name": "stdout",
     "output_type": "stream",
     "text": [
      "<list_iterator object at 0x000002A031457310>\n"
     ]
    }
   ],
   "source": [
    "itrator = iter(my_list)\n",
    "print(itrator)"
   ]
  },
  {
   "cell_type": "code",
   "execution_count": 26,
   "id": "2d6cb10d",
   "metadata": {},
   "outputs": [
    {
     "data": {
      "text/plain": [
       "1"
      ]
     },
     "execution_count": 26,
     "metadata": {},
     "output_type": "execute_result"
    }
   ],
   "source": [
    "next(itrator)"
   ]
  },
  {
   "cell_type": "code",
   "execution_count": null,
   "id": "25f8de66",
   "metadata": {},
   "outputs": [
    {
     "name": "stdout",
     "output_type": "stream",
     "text": [
      "Hay no element left\n"
     ]
    }
   ],
   "source": [
    "try:\n",
    "    print(next(itrator))\n",
    "except StopIteration:\n",
    "    print(\"Hay no element left\")\n",
    "\n",
    "# Same done using Strings"
   ]
  },
  {
   "cell_type": "markdown",
   "id": "4c6f8e0c",
   "metadata": {},
   "source": [
    "# Generators\n",
    "- yield"
   ]
  },
  {
   "cell_type": "code",
   "execution_count": 39,
   "id": "35f7c755",
   "metadata": {},
   "outputs": [],
   "source": [
    "def seq(n):\n",
    "    for i in range(3):\n",
    "        yield i**2"
   ]
  },
  {
   "cell_type": "code",
   "execution_count": 41,
   "id": "ed38c7e9",
   "metadata": {},
   "outputs": [
    {
     "name": "stdout",
     "output_type": "stream",
     "text": [
      "0\n",
      "1\n",
      "4\n"
     ]
    }
   ],
   "source": [
    "seq(3)\n",
    "for i in seq(3):\n",
    "    print(i)"
   ]
  },
  {
   "cell_type": "code",
   "execution_count": 50,
   "id": "e02aaac6",
   "metadata": {},
   "outputs": [],
   "source": [
    "def my_generator():\n",
    "    yield 1\n",
    "    yield 2 \n",
    "    yield 3\n"
   ]
  },
  {
   "cell_type": "code",
   "execution_count": 53,
   "id": "2d80a334",
   "metadata": {},
   "outputs": [
    {
     "data": {
      "text/plain": [
       "1"
      ]
     },
     "execution_count": 53,
     "metadata": {},
     "output_type": "execute_result"
    }
   ],
   "source": [
    "gen = my_generator()\n",
    "next(gen)"
   ]
  },
  {
   "cell_type": "markdown",
   "id": "db944cec",
   "metadata": {},
   "source": [
    "# Decorators \n",
    "- use to add the funcationality on a function or a method of a class"
   ]
  },
  {
   "cell_type": "code",
   "execution_count": 13,
   "id": "34eececb",
   "metadata": {},
   "outputs": [
    {
     "data": {
      "text/plain": [
       "'Welcome the advance Python Course'"
      ]
     },
     "execution_count": 13,
     "metadata": {},
     "output_type": "execute_result"
    }
   ],
   "source": [
    "# copy function\n",
    "def welcome():\n",
    "    return \"Welcome the advance Python Course\"\n",
    "welcome()"
   ]
  },
  {
   "cell_type": "code",
   "execution_count": 14,
   "id": "40d9e2c9",
   "metadata": {},
   "outputs": [
    {
     "data": {
      "text/plain": [
       "'Welcome the advance Python Course'"
      ]
     },
     "execution_count": 14,
     "metadata": {},
     "output_type": "execute_result"
    }
   ],
   "source": [
    "wel = welcome\n",
    "wel()"
   ]
  },
  {
   "cell_type": "code",
   "execution_count": null,
   "id": "bbbcceed",
   "metadata": {},
   "outputs": [
    {
     "name": "stdout",
     "output_type": "stream",
     "text": [
      "Welcome the advance Python Course\n"
     ]
    }
   ],
   "source": [
    "del welcome # even welcome is deleted\n",
    "print(wel())"
   ]
  },
  {
   "cell_type": "code",
   "execution_count": 16,
   "id": "e822667a",
   "metadata": {},
   "outputs": [],
   "source": [
    "# Closure\n",
    "def welcome():\n",
    "    msg = 'Welcome to Python Baics'\n",
    "    def sub_welcome():\n",
    "        print(msg)\n",
    "        print(\"After finishing the Basic\")\n",
    "        print(\"Move on to the Advance Python\")\n",
    "    return sub_welcome()"
   ]
  },
  {
   "cell_type": "code",
   "execution_count": 17,
   "id": "5099f08d",
   "metadata": {},
   "outputs": [
    {
     "name": "stdout",
     "output_type": "stream",
     "text": [
      "Welcome to Python Baics\n",
      "After finishing the Basic\n",
      "Move on to the Advance Python\n"
     ]
    }
   ],
   "source": [
    "welcome()"
   ]
  },
  {
   "cell_type": "code",
   "execution_count": 19,
   "id": "e830d841",
   "metadata": {},
   "outputs": [],
   "source": [
    " # Decorators\n",
    "def main_welcome(func):\n",
    "    def sub_welcome():\n",
    "        print(\"1st Learn the Basics.\")\n",
    "        func()\n",
    "        print(\"Then go to the Advance concepts\")\n",
    "    return sub_welcome()\n",
    "        "
   ]
  },
  {
   "cell_type": "code",
   "execution_count": 20,
   "id": "6eedb869",
   "metadata": {},
   "outputs": [
    {
     "name": "stdout",
     "output_type": "stream",
     "text": [
      "1st Learn the Basics.\n",
      "Strong your Concepts\n",
      "Then go to the Advance concepts\n"
     ]
    }
   ],
   "source": [
    "@main_welcome\n",
    "def course():\n",
    "    print(\"Strong your Concepts\")"
   ]
  },
  {
   "cell_type": "code",
   "execution_count": 21,
   "id": "a2a07444",
   "metadata": {},
   "outputs": [],
   "source": [
    "# with Arguments \n",
    "def repeat(n):\n",
    "    def decorator(fun):\n",
    "        def wraper(*args, **kwargs):\n",
    "            for _ in range(n):\n",
    "                fun(*args, **kwargs)\n",
    "        return wraper\n",
    "    return decorator\n",
    "        "
   ]
  },
  {
   "cell_type": "code",
   "execution_count": 22,
   "id": "27eaf4e6",
   "metadata": {},
   "outputs": [],
   "source": [
    "@repeat(3)\n",
    "def my_hello():\n",
    "    print(\"Hello decorators\")"
   ]
  },
  {
   "cell_type": "code",
   "execution_count": 23,
   "id": "2ae1e71a",
   "metadata": {},
   "outputs": [
    {
     "name": "stdout",
     "output_type": "stream",
     "text": [
      "Hello decorators\n",
      "Hello decorators\n",
      "Hello decorators\n"
     ]
    }
   ],
   "source": [
    "my_hello()"
   ]
  },
  {
   "cell_type": "code",
   "execution_count": null,
   "id": "95d32fe6",
   "metadata": {},
   "outputs": [],
   "source": []
  }
 ],
 "metadata": {
  "kernelspec": {
   "display_name": "pandas",
   "language": "python",
   "name": "python3"
  },
  "language_info": {
   "codemirror_mode": {
    "name": "ipython",
    "version": 3
   },
   "file_extension": ".py",
   "mimetype": "text/x-python",
   "name": "python",
   "nbconvert_exporter": "python",
   "pygments_lexer": "ipython3",
   "version": "3.13.2"
  }
 },
 "nbformat": 4,
 "nbformat_minor": 5
}
