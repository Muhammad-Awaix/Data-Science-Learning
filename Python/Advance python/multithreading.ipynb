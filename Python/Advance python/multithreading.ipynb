{
 "cells": [
  {
   "cell_type": "markdown",
   "id": "cfd4d17f",
   "metadata": {},
   "source": [
    "# MultiThreading"
   ]
  },
  {
   "cell_type": "code",
   "execution_count": 1,
   "id": "3edc15ab",
   "metadata": {},
   "outputs": [],
   "source": [
    "import threading\n",
    "import time"
   ]
  },
  {
   "cell_type": "code",
   "execution_count": 3,
   "id": "da1793a9",
   "metadata": {},
   "outputs": [
    {
     "name": "stdout",
     "output_type": "stream",
     "text": [
      "Number1: 0\n",
      "Number1: 1\n",
      "Number1: 2\n",
      "Number1: 3\n",
      "Number1: 4\n",
      "Letter: a\n",
      "Letter: b\n",
      "Letter: c\n",
      "Letter: d\n",
      "Letter: e\n",
      "0.000637054443359375\n"
     ]
    }
   ],
   "source": [
    "# 1st Thread\n",
    "def print_numbers():\n",
    "    for i in range(5):\n",
    "        print(f\"Number1: {i}\")\n",
    "# 2nd Thread\n",
    "def print_letters():\n",
    "    for i in \"abcde\":\n",
    "        print(f\"Letter: {i}\")\n",
    "start_time = time.time()\n",
    "print_numbers()\n",
    "print_letters()\n",
    "finish_time = time.time()-start_time\n",
    "print(finish_time)"
   ]
  },
  {
   "cell_type": "code",
   "execution_count": null,
   "id": "c5e4a5fd",
   "metadata": {},
   "outputs": [
    {
     "name": "stdout",
     "output_type": "stream",
     "text": [
      "Number1: 0\n",
      "Number1: 1\n",
      "Number1: 2\n",
      "Number1: 3\n",
      "Number1: 4\n",
      "Letter: a\n",
      "Letter: b\n",
      "Letter: c\n",
      "Letter: d\n",
      "Letter: e\n",
      "20.006343126296997\n"
     ]
    }
   ],
   "source": [
    "# 1st Thread\n",
    "def print_numbers():\n",
    "    for i in range(5):\n",
    "        time.sleep(2) # Add sleep time\n",
    "        print(f\"Number1: {i}\")\n",
    "# 2nd Thread\n",
    "def print_letters():\n",
    "    for i in \"abcde\":\n",
    "        time.sleep(2)  # Add sleep time\n",
    "        print(f\"Letter: {i}\")\n",
    "start_time = time.time()\n",
    "print_numbers()\n",
    "print_letters()\n",
    "finish_time = time.time()-start_time\n",
    "print(finish_time)"
   ]
  },
  {
   "cell_type": "code",
   "execution_count": null,
   "id": "0f7f499d",
   "metadata": {},
   "outputs": [
    {
     "name": "stdout",
     "output_type": "stream",
     "text": [
      "Number1: 0\n",
      "Letter: a\n",
      "Number1: 1\n",
      "Letter: b\n",
      "Number1: 2\n",
      "Letter: c\n",
      "Number1: 3\n",
      "Letter: d\n",
      "Number1: 4\n",
      "Letter: e\n",
      "10.011619567871094\n"
     ]
    }
   ],
   "source": [
    "# 1st Thread\n",
    "def print_numbers():\n",
    "    for i in range(5):\n",
    "        time.sleep(2) # Add sleep time\n",
    "        print(f\"Number1: {i}\")\n",
    "# 2nd Thread\n",
    "def print_letters():\n",
    "    for i in \"abcde\":\n",
    "        time.sleep(2)  # Add sleep time\n",
    "        print(f\"Letter: {i}\")\n",
    "\n",
    "# Creating Threads\n",
    "t1 = threading.Thread(target=print_numbers)\n",
    "t2 = threading.Thread(target=print_letters)\n",
    "\n",
    "start_time = time.time()\n",
    "\n",
    "t1.start()\n",
    "t2.start()\n",
    "\n",
    "t1.join()\n",
    "t2.join()\n",
    "\n",
    "finish_time = time.time()-start_time\n",
    "print(finish_time)\n",
    "\n",
    "# Program execute in a parallel way"
   ]
  },
  {
   "cell_type": "markdown",
   "id": "3890218a",
   "metadata": {},
   "source": [
    "# Multiprecessing"
   ]
  },
  {
   "cell_type": "code",
   "execution_count": 20,
   "id": "b074d610",
   "metadata": {},
   "outputs": [
    {
     "name": "stdout",
     "output_type": "stream",
     "text": [
      "Time taken: 0.15767216682434082\n"
     ]
    }
   ],
   "source": [
    "import time\n",
    "import multiprocessing\n",
    "\n",
    "# Process:1\n",
    "def sequare():\n",
    "    for i in range(5):\n",
    "        time.sleep(1.5)\n",
    "        print(f\"Square of {i} = {i * i}\")\n",
    "\n",
    "# Process:2\n",
    "def cube():\n",
    "    for i in range(5):\n",
    "        time.sleep(2)\n",
    "        print(f\"Cube of {i} = {i * i * i}\")\n",
    "\n",
    "if __name__ == \"__main__\":\n",
    "    p1 = multiprocessing.Process(target=sequare)\n",
    "    p2 = multiprocessing.Process(target=cube)\n",
    "\n",
    "    st = time.time()\n",
    "    p1.start()\n",
    "    p2.start()\n",
    "\n",
    "    p1.join()\n",
    "    p2.join()\n",
    "\n",
    "    ft = time.time() - st\n",
    "    print(\"Time taken:\", ft)\n"
   ]
  },
  {
   "cell_type": "markdown",
   "id": "f81ce0c4",
   "metadata": {},
   "source": [
    "## TreadPool Executer"
   ]
  },
  {
   "cell_type": "code",
   "execution_count": 25,
   "id": "14220673",
   "metadata": {},
   "outputs": [],
   "source": [
    "from concurrent.futures import ThreadPoolExecutor"
   ]
  },
  {
   "cell_type": "code",
   "execution_count": 26,
   "id": "ff58e2b2",
   "metadata": {},
   "outputs": [
    {
     "name": "stdout",
     "output_type": "stream",
     "text": [
      "Number: 1\n",
      "Number: 2\n",
      "Number: 3\n",
      "Number: 4\n",
      "Number: 5\n",
      "Number: 6\n",
      "Number: 7\n",
      "Number: 8\n",
      "Number: 9\n",
      "Number: 10\n"
     ]
    }
   ],
   "source": [
    "import time\n",
    "def print_number(num):\n",
    "    time.sleep(2)\n",
    "    return f\"Number: {num}\"\n",
    "num = [1,2,3,4,5,6,7,8,9,10]\n",
    "\n",
    "with ThreadPoolExecutor (max_workers=3) as executor:\n",
    "    result = executor.map(print_number, num)\n",
    "\n",
    "for i in result:\n",
    "    print(i)"
   ]
  },
  {
   "cell_type": "markdown",
   "id": "c6cedfac",
   "metadata": {},
   "source": [
    "## ProcessPool Executor"
   ]
  },
  {
   "cell_type": "code",
   "execution_count": 27,
   "id": "002db96d",
   "metadata": {},
   "outputs": [],
   "source": [
    "from concurrent.futures import ThreadPoolExecutor"
   ]
  },
  {
   "cell_type": "code",
   "execution_count": 37,
   "id": "24169482",
   "metadata": {},
   "outputs": [
    {
     "name": "stdout",
     "output_type": "stream",
     "text": [
      "Cube of 1=1\n",
      "Cube of 2=8\n",
      "Cube of 3=27\n",
      "Cube of 4=64\n",
      "Cube of 5=125\n",
      "Cube of 6=216\n",
      "Cube of 7=343\n",
      "Cube of 8=512\n",
      "Cube of 9=729\n",
      "Cube of 10=1000\n"
     ]
    }
   ],
   "source": [
    "def cube_number(num):\n",
    "    time.sleep(2)\n",
    "    return f\"Cube of {num}={num*num*num}\"\n",
    "\n",
    "num = [1,2,3,4,5,6,7,8,9,10] \n",
    "\n",
    "if __name__ == \"__main__\":\n",
    "    with ThreadPoolExecutor(max_workers=5) as exe:\n",
    "        result = exe.map(cube_number, num)\n",
    "\n",
    "    for i in result:\n",
    "        print(i)"
   ]
  },
  {
   "cell_type": "markdown",
   "id": "a5c6e7c4",
   "metadata": {},
   "source": [
    "# Real World Example"
   ]
  },
  {
   "cell_type": "code",
   "execution_count": 46,
   "id": "7b08dd08",
   "metadata": {},
   "outputs": [
    {
     "name": "stdout",
     "output_type": "stream",
     "text": [
      " Fetch 5794 words from https://langchain-ai.github.io/langgraph/\n",
      " Fetch 3511 words from https://langchain-ai.github.io/langgraph/concepts/why-langgraph/\n",
      " Fetch 397 words from https://www.geeksforgeeks.org/batch/ds-16/track/su-data-sprint-day10/article/MzM2NTcz\n",
      "All Web pages fetched:!\n"
     ]
    }
   ],
   "source": [
    "# Web scraping using MultiThreading\n",
    "'''\n",
    "https://www.geeksforgeeks.org/batch/ds-16/track/su-data-sprint-day10/article/MTIwNzg4NA%3D%3D\n",
    "\n",
    "https://www.geeksforgeeks.org/batch/ds-16/track/su-data-sprint-day10/article/MTA4NDAwMg%3D%3D\n",
    "\n",
    "https://www.geeksforgeeks.org/batch/ds-16/track/su-data-sprint-day10/article/MzM2NTcz\n",
    "'''\n",
    "\n",
    "import requests\n",
    "from bs4 import BeautifulSoup\n",
    "import threading\n",
    "\n",
    "urls = [\n",
    "    'https://langchain-ai.github.io/langgraph/concepts/why-langgraph/',\n",
    "    'https://langchain-ai.github.io/langgraph/',\n",
    "    'https://www.geeksforgeeks.org/batch/ds-16/track/su-data-sprint-day10/article/MzM2NTcz'\n",
    "]\n",
    "\n",
    "def fetch_content(url):\n",
    "    response = requests.get(url)\n",
    "    soup = BeautifulSoup(response.content, 'html.parser')\n",
    "    print(f\" Fetch {len(soup.text)} words from {url}\")\n",
    "\n",
    "threads = []\n",
    "for url in urls:\n",
    "    thread = threading.Thread(target=fetch_content, args=(url,))\n",
    "    threads.append(thread)\n",
    "    thread.start()\n",
    "\n",
    "for thread in threads:\n",
    "    thread.join()\n",
    "\n",
    "print(\"All Web pages fetched:!\")"
   ]
  },
  {
   "cell_type": "markdown",
   "id": "934f6ddb",
   "metadata": {},
   "source": [
    "# Real world MultiProcessing"
   ]
  },
  {
   "cell_type": "code",
   "execution_count": null,
   "id": "3495cdab",
   "metadata": {},
   "outputs": [],
   "source": [
    "import multiprocessing\n",
    "import sys\n",
    "import math\n",
    "import time\n",
    "\n",
    "sys.set_int_max_str_digits(100000)\n",
    "\n",
    "def compute_fact_len(number):\n",
    "    result = math.factorial(number)\n",
    "    return len(str(result))  # Return digit count\n",
    "\n",
    "if __name__ == \"__main__\":\n",
    "    numbers = [100, 150]\n",
    "    \n",
    "    st = time.time()\n",
    "\n",
    "    with multiprocessing.Pool() as pool:\n",
    "        results = pool.map(compute_fact_len, numbers)\n",
    "    \n",
    "    et = time.time() - st\n",
    "\n",
    "    for num, digits in zip(numbers, results):\n",
    "        print(f\"{num}! has {digits} digits\")\n",
    "    \n",
    "    print(f\"Time taken: {et} seconds\")\n"
   ]
  },
  {
   "cell_type": "code",
   "execution_count": null,
   "id": "82ed872f",
   "metadata": {},
   "outputs": [],
   "source": []
  }
 ],
 "metadata": {
  "kernelspec": {
   "display_name": "Python 3",
   "language": "python",
   "name": "python3"
  },
  "language_info": {
   "codemirror_mode": {
    "name": "ipython",
    "version": 3
   },
   "file_extension": ".py",
   "mimetype": "text/x-python",
   "name": "python",
   "nbconvert_exporter": "python",
   "pygments_lexer": "ipython3",
   "version": "3.13.6"
  }
 },
 "nbformat": 4,
 "nbformat_minor": 5
}
