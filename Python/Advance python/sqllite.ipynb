{
 "cells": [
  {
   "cell_type": "markdown",
   "id": "1dc2f72d",
   "metadata": {},
   "source": [
    "# Sqlite3"
   ]
  },
  {
   "cell_type": "code",
   "execution_count": 1,
   "id": "e0e0cb5e",
   "metadata": {},
   "outputs": [],
   "source": [
    "import sqlite3"
   ]
  },
  {
   "cell_type": "code",
   "execution_count": 3,
   "id": "9da29fcc",
   "metadata": {},
   "outputs": [],
   "source": [
    "# Creating a database\n",
    "connection = sqlite3.connect(\"example.db\")"
   ]
  },
  {
   "cell_type": "code",
   "execution_count": 4,
   "id": "05e04ff1",
   "metadata": {},
   "outputs": [],
   "source": [
    "cursor = connection.cursor()"
   ]
  },
  {
   "cell_type": "code",
   "execution_count": 7,
   "id": "29767f78",
   "metadata": {},
   "outputs": [],
   "source": [
    "cursor.execute('''\n",
    "create table if not exists employee(\n",
    "id int primary key,\n",
    "fname varchar(20) not null, \n",
    "lname varchar(20) not null,\n",
    "department varchar(10) not null,\n",
    "salary int(15) not null\n",
    ")\n",
    "''')\n",
    "connection.commit()"
   ]
  },
  {
   "cell_type": "code",
   "execution_count": 8,
   "id": "7b5a0f25",
   "metadata": {},
   "outputs": [],
   "source": [
    "cursor.execute('''\n",
    "insert into employee values (101, \"Muhammad\", \"Awais\", \"DS\", 150000)\n",
    "''')\n",
    "connection.commit()"
   ]
  },
  {
   "cell_type": "code",
   "execution_count": 17,
   "id": "d1551e05",
   "metadata": {},
   "outputs": [],
   "source": [
    "cursor.execute('''\n",
    "insert into employee values (102, \"Rizwan\", \"Ashiq\", \"Web\", 50000)\n",
    "''')\n",
    "connection.commit()"
   ]
  },
  {
   "cell_type": "code",
   "execution_count": 18,
   "id": "68865166",
   "metadata": {},
   "outputs": [],
   "source": [
    "cursor.execute('''\n",
    "insert into employee values (103, \"Murtza\", \"Saeed\", \"DM\", 10000)\n",
    "''')\n",
    "connection.commit()"
   ]
  },
  {
   "cell_type": "code",
   "execution_count": 19,
   "id": "b18cb238",
   "metadata": {},
   "outputs": [],
   "source": [
    "cursor.execute('select * from employee')\n",
    "rows = cursor.fetchall()\n"
   ]
  },
  {
   "cell_type": "code",
   "execution_count": 20,
   "id": "4f56a8ba",
   "metadata": {},
   "outputs": [
    {
     "data": {
      "text/plain": [
       "[(101, 'Muhammad', 'Awais', 'DS', 150000),\n",
       " (102, 'Rizwan', 'Ashiq', 'Web', 50000),\n",
       " (103, 'Murtza', 'Saeed', 'DM', 10000)]"
      ]
     },
     "execution_count": 20,
     "metadata": {},
     "output_type": "execute_result"
    }
   ],
   "source": [
    "rows"
   ]
  },
  {
   "cell_type": "code",
   "execution_count": 24,
   "id": "6030968d",
   "metadata": {},
   "outputs": [
    {
     "name": "stdout",
     "output_type": "stream",
     "text": [
      "(101, 'Muhammad', 'Awais', 'DS', 150000)\n",
      "(102, 'Rizwan', 'Ashiq', 'Web', 50000)\n",
      "(103, 'Murtza', 'Saeed', 'DM', 10000)\n"
     ]
    }
   ],
   "source": [
    "for row in rows:\n",
    "    print(row)"
   ]
  },
  {
   "cell_type": "code",
   "execution_count": 25,
   "id": "92240a23",
   "metadata": {},
   "outputs": [],
   "source": [
    "cursor.execute(\"update employee set fname='Zeeshan' where id=103\")\n",
    "connection.commit()"
   ]
  },
  {
   "cell_type": "code",
   "execution_count": 26,
   "id": "63c10ba8",
   "metadata": {},
   "outputs": [
    {
     "data": {
      "text/plain": [
       "[(101, 'Muhammad', 'Awais', 'DS', 150000),\n",
       " (102, 'Rizwan', 'Ashiq', 'Web', 50000),\n",
       " (103, 'Murtza', 'Saeed', 'DM', 10000)]"
      ]
     },
     "execution_count": 26,
     "metadata": {},
     "output_type": "execute_result"
    }
   ],
   "source": [
    "rows"
   ]
  },
  {
   "cell_type": "code",
   "execution_count": 29,
   "id": "e5479b07",
   "metadata": {},
   "outputs": [],
   "source": [
    "cursor.execute(\"delete from employee where id =103\")\n",
    "connection.commit()"
   ]
  },
  {
   "cell_type": "code",
   "execution_count": 31,
   "id": "5ad78bda",
   "metadata": {},
   "outputs": [
    {
     "data": {
      "text/plain": [
       "[(101, 'Muhammad', 'Awais', 'DS', 150000),\n",
       " (102, 'Rizwan', 'Ashiq', 'Web', 50000),\n",
       " (103, 'Murtza', 'Saeed', 'DM', 10000)]"
      ]
     },
     "execution_count": 31,
     "metadata": {},
     "output_type": "execute_result"
    }
   ],
   "source": [
    "rows"
   ]
  },
  {
   "cell_type": "code",
   "execution_count": null,
   "id": "e48e03d3",
   "metadata": {},
   "outputs": [],
   "source": []
  }
 ],
 "metadata": {
  "kernelspec": {
   "display_name": "pandas",
   "language": "python",
   "name": "python3"
  },
  "language_info": {
   "codemirror_mode": {
    "name": "ipython",
    "version": 3
   },
   "file_extension": ".py",
   "mimetype": "text/x-python",
   "name": "python",
   "nbconvert_exporter": "python",
   "pygments_lexer": "ipython3",
   "version": "3.13.2"
  }
 },
 "nbformat": 4,
 "nbformat_minor": 5
}
